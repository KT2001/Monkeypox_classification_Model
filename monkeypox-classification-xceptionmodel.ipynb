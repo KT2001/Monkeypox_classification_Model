{
 "cells": [
  {
   "cell_type": "code",
   "execution_count": 1,
   "id": "a0a24c5c",
   "metadata": {
    "execution": {
     "iopub.execute_input": "2022-08-27T15:38:38.828171Z",
     "iopub.status.busy": "2022-08-27T15:38:38.827048Z",
     "iopub.status.idle": "2022-08-27T15:38:45.008701Z",
     "shell.execute_reply": "2022-08-27T15:38:45.007724Z"
    },
    "papermill": {
     "duration": 6.193618,
     "end_time": "2022-08-27T15:38:45.011230",
     "exception": false,
     "start_time": "2022-08-27T15:38:38.817612",
     "status": "completed"
    },
    "tags": []
   },
   "outputs": [],
   "source": [
    "import os\n",
    "os.environ['TF_CPP_MIN_LOG_LEVEL'] = '2'\n",
    "import tensorflow as tf\n",
    "import matplotlib.pyplot as plt\n",
    "import matplotlib.image as mimg\n",
    "%matplotlib inline\n",
    "from PIL import Image\n",
    "from scipy import misc\n",
    "import random\n",
    "\n",
    "import tensorflow as tf\n",
    "\n",
    "from tensorflow.keras import models, layers\n",
    "import keras\n",
    "import keras.backend as K\n",
    "from keras.preprocessing.image import ImageDataGenerator\n",
    "from keras.models import Sequential, Model\n",
    "\n",
    "from keras.layers import Input, Conv2D, Conv2DTranspose, MaxPooling2D, Concatenate, BatchNormalization\n",
    "from keras.layers import UpSampling2D, Dropout, Add, Multiply, Subtract, AveragePooling2D\n",
    "from keras.layers.core import Activation, SpatialDropout2D\n",
    "from keras.layers.core import Dense, Lambda\n",
    "from keras.layers import GlobalAveragePooling2D, Reshape, Dense, Permute, Flatten\n",
    "\n",
    "from tensorflow.keras.utils import plot_model\n",
    "from tensorflow.keras.applications import Xception\n",
    "from tensorflow.keras.applications import InceptionV3\n",
    "\n",
    "from keras.optimizers import * \n",
    "from keras.callbacks import *\n",
    "from keras.activations import *\n",
    "\n",
    "from sklearn.metrics import classification_report, confusion_matrix\n",
    "import pathlib"
   ]
  },
  {
   "cell_type": "code",
   "execution_count": 2,
   "id": "31ceef62",
   "metadata": {
    "execution": {
     "iopub.execute_input": "2022-08-27T15:38:45.026775Z",
     "iopub.status.busy": "2022-08-27T15:38:45.026198Z",
     "iopub.status.idle": "2022-08-27T15:38:47.400837Z",
     "shell.execute_reply": "2022-08-27T15:38:47.399849Z"
    },
    "papermill": {
     "duration": 2.384712,
     "end_time": "2022-08-27T15:38:47.403227",
     "exception": false,
     "start_time": "2022-08-27T15:38:45.018515",
     "status": "completed"
    },
    "tags": []
   },
   "outputs": [],
   "source": [
    "from tensorflow.compat.v1 import ConfigProto\n",
    "from tensorflow.compat.v1 import InteractiveSession\n",
    "\n",
    "config = ConfigProto()\n",
    "config.gpu_options.per_process_gpu_memory_fraction = 0.9\n",
    "config.gpu_options.allow_growth = True\n",
    "session = InteractiveSession(config=config)"
   ]
  },
  {
   "cell_type": "code",
   "execution_count": 3,
   "id": "4e455f1c",
   "metadata": {
    "execution": {
     "iopub.execute_input": "2022-08-27T15:38:47.418639Z",
     "iopub.status.busy": "2022-08-27T15:38:47.417767Z",
     "iopub.status.idle": "2022-08-27T15:38:47.426232Z",
     "shell.execute_reply": "2022-08-27T15:38:47.425283Z"
    },
    "papermill": {
     "duration": 0.01806,
     "end_time": "2022-08-27T15:38:47.428276",
     "exception": false,
     "start_time": "2022-08-27T15:38:47.410216",
     "status": "completed"
    },
    "tags": []
   },
   "outputs": [
    {
     "data": {
      "text/plain": [
       "'2.6.4'"
      ]
     },
     "execution_count": 3,
     "metadata": {},
     "output_type": "execute_result"
    }
   ],
   "source": [
    "tf.__version__ #The tensorflow version used here is '2.6.4'"
   ]
  },
  {
   "cell_type": "code",
   "execution_count": 4,
   "id": "8231257b",
   "metadata": {
    "execution": {
     "iopub.execute_input": "2022-08-27T15:38:47.444454Z",
     "iopub.status.busy": "2022-08-27T15:38:47.442796Z",
     "iopub.status.idle": "2022-08-27T15:38:48.520967Z",
     "shell.execute_reply": "2022-08-27T15:38:48.519774Z"
    },
    "papermill": {
     "duration": 1.08836,
     "end_time": "2022-08-27T15:38:48.523392",
     "exception": false,
     "start_time": "2022-08-27T15:38:47.435032",
     "status": "completed"
    },
    "tags": []
   },
   "outputs": [
    {
     "name": "stdout",
     "output_type": "stream",
     "text": [
      "Sat Aug 27 15:38:48 2022       \r\n",
      "+-----------------------------------------------------------------------------+\r\n",
      "| NVIDIA-SMI 470.82.01    Driver Version: 470.82.01    CUDA Version: 11.4     |\r\n",
      "|-------------------------------+----------------------+----------------------+\r\n",
      "| GPU  Name        Persistence-M| Bus-Id        Disp.A | Volatile Uncorr. ECC |\r\n",
      "| Fan  Temp  Perf  Pwr:Usage/Cap|         Memory-Usage | GPU-Util  Compute M. |\r\n",
      "|                               |                      |               MIG M. |\r\n",
      "|===============================+======================+======================|\r\n",
      "|   0  Tesla P100-PCIE...  Off  | 00000000:00:04.0 Off |                    0 |\r\n",
      "| N/A   38C    P0    32W / 250W |    377MiB / 16280MiB |      0%      Default |\r\n",
      "|                               |                      |                  N/A |\r\n",
      "+-------------------------------+----------------------+----------------------+\r\n",
      "                                                                               \r\n",
      "+-----------------------------------------------------------------------------+\r\n",
      "| Processes:                                                                  |\r\n",
      "|  GPU   GI   CI        PID   Type   Process name                  GPU Memory |\r\n",
      "|        ID   ID                                                   Usage      |\r\n",
      "|=============================================================================|\r\n",
      "+-----------------------------------------------------------------------------+\r\n"
     ]
    }
   ],
   "source": [
    "!nvidia-smi"
   ]
  },
  {
   "cell_type": "code",
   "execution_count": 5,
   "id": "3be6eab3",
   "metadata": {
    "execution": {
     "iopub.execute_input": "2022-08-27T15:38:48.539608Z",
     "iopub.status.busy": "2022-08-27T15:38:48.539166Z",
     "iopub.status.idle": "2022-08-27T15:38:48.544253Z",
     "shell.execute_reply": "2022-08-27T15:38:48.543290Z"
    },
    "papermill": {
     "duration": 0.015574,
     "end_time": "2022-08-27T15:38:48.546276",
     "exception": false,
     "start_time": "2022-08-27T15:38:48.530702",
     "status": "completed"
    },
    "tags": []
   },
   "outputs": [],
   "source": [
    "BATCH_SIZE = 16\n",
    "IMAGE_SIZE = 224\n",
    "CHANNELS=3\n",
    "EPOCHS=100"
   ]
  },
  {
   "cell_type": "code",
   "execution_count": 6,
   "id": "e6849356",
   "metadata": {
    "execution": {
     "iopub.execute_input": "2022-08-27T15:38:48.561711Z",
     "iopub.status.busy": "2022-08-27T15:38:48.561389Z",
     "iopub.status.idle": "2022-08-27T15:38:48.565904Z",
     "shell.execute_reply": "2022-08-27T15:38:48.564888Z"
    },
    "papermill": {
     "duration": 0.014261,
     "end_time": "2022-08-27T15:38:48.567949",
     "exception": false,
     "start_time": "2022-08-27T15:38:48.553688",
     "status": "completed"
    },
    "tags": []
   },
   "outputs": [],
   "source": [
    "train_loc = '../input/monkeypox-skin-lesion-dataset/Fold1/Fold1/Fold1/Train'\n",
    "val_loc = '../input/monkeypox-skin-lesion-dataset/Fold1/Fold1/Fold1/Val'\n",
    "test_loc = '../input/monkeypox-skin-lesion-dataset/Fold1/Fold1/Fold1/Test'"
   ]
  },
  {
   "cell_type": "code",
   "execution_count": 7,
   "id": "e2f4e61d",
   "metadata": {
    "execution": {
     "iopub.execute_input": "2022-08-27T15:38:48.582590Z",
     "iopub.status.busy": "2022-08-27T15:38:48.582299Z",
     "iopub.status.idle": "2022-08-27T15:38:50.152383Z",
     "shell.execute_reply": "2022-08-27T15:38:50.151235Z"
    },
    "papermill": {
     "duration": 1.580335,
     "end_time": "2022-08-27T15:38:50.155009",
     "exception": false,
     "start_time": "2022-08-27T15:38:48.574674",
     "status": "completed"
    },
    "tags": []
   },
   "outputs": [
    {
     "name": "stdout",
     "output_type": "stream",
     "text": [
      "Found 2142 images belonging to 2 classes.\n",
      "Found 420 images belonging to 2 classes.\n",
      "Found 45 images belonging to 2 classes.\n"
     ]
    }
   ],
   "source": [
    "traindata = ImageDataGenerator()\n",
    "train_ds = traindata.flow_from_directory(directory=train_loc, target_size=(224,224),batch_size=BATCH_SIZE, \n",
    "                                         shuffle=True, seed=12)\n",
    "\n",
    "valdata = ImageDataGenerator()\n",
    "val_ds = valdata.flow_from_directory(directory=val_loc, target_size=(224,224),batch_size=BATCH_SIZE, \n",
    "                                     shuffle=True, seed=12)\n",
    "\n",
    "testdata = ImageDataGenerator()\n",
    "test_ds = testdata.flow_from_directory(directory=test_loc, target_size=(224,224),batch_size=BATCH_SIZE, \n",
    "                                       shuffle=True, seed = 12)"
   ]
  },
  {
   "cell_type": "code",
   "execution_count": 8,
   "id": "6c52fba6",
   "metadata": {
    "execution": {
     "iopub.execute_input": "2022-08-27T15:38:50.172534Z",
     "iopub.status.busy": "2022-08-27T15:38:50.171818Z",
     "iopub.status.idle": "2022-08-27T15:38:50.179925Z",
     "shell.execute_reply": "2022-08-27T15:38:50.178919Z"
    },
    "papermill": {
     "duration": 0.018529,
     "end_time": "2022-08-27T15:38:50.182070",
     "exception": false,
     "start_time": "2022-08-27T15:38:50.163541",
     "status": "completed"
    },
    "tags": []
   },
   "outputs": [
    {
     "data": {
      "text/plain": [
       "{'Monkeypox': 0, 'Others': 1}"
      ]
     },
     "execution_count": 8,
     "metadata": {},
     "output_type": "execute_result"
    }
   ],
   "source": [
    "train_ds.class_indices"
   ]
  },
  {
   "cell_type": "code",
   "execution_count": 9,
   "id": "20250f2c",
   "metadata": {
    "execution": {
     "iopub.execute_input": "2022-08-27T15:38:50.197167Z",
     "iopub.status.busy": "2022-08-27T15:38:50.196896Z",
     "iopub.status.idle": "2022-08-27T15:38:50.203069Z",
     "shell.execute_reply": "2022-08-27T15:38:50.202151Z"
    },
    "papermill": {
     "duration": 0.016081,
     "end_time": "2022-08-27T15:38:50.205375",
     "exception": false,
     "start_time": "2022-08-27T15:38:50.189294",
     "status": "completed"
    },
    "tags": []
   },
   "outputs": [
    {
     "data": {
      "text/plain": [
       "(224, 224, 3)"
      ]
     },
     "execution_count": 9,
     "metadata": {},
     "output_type": "execute_result"
    }
   ],
   "source": [
    "IMG_Shape = (IMAGE_SIZE, IMAGE_SIZE) + (3,)\n",
    "IMG_Shape"
   ]
  },
  {
   "cell_type": "code",
   "execution_count": 10,
   "id": "41b4c2df",
   "metadata": {
    "execution": {
     "iopub.execute_input": "2022-08-27T15:38:50.221117Z",
     "iopub.status.busy": "2022-08-27T15:38:50.220537Z",
     "iopub.status.idle": "2022-08-27T15:38:50.230553Z",
     "shell.execute_reply": "2022-08-27T15:38:50.229654Z"
    },
    "papermill": {
     "duration": 0.020223,
     "end_time": "2022-08-27T15:38:50.232482",
     "exception": false,
     "start_time": "2022-08-27T15:38:50.212259",
     "status": "completed"
    },
    "tags": []
   },
   "outputs": [],
   "source": [
    "def create_model(input_shape, n_classes , optimizer, fine_tune):\n",
    "    \"\"\"\n",
    "    Compiles a model integrated with MobileNetV2 pretrained layers\n",
    "    \n",
    "    input_shape: tuple - the shape of input images (width, height, channels)\n",
    "    n_classes: int - number of classes for the output layer\n",
    "    optimizer: string - instantiated optimizer to use for training. Defaults to 'RMSProp'\n",
    "    fine_tune: int - The number of pre-trained layers to unfreeze.\n",
    "                If set to 0, all pretrained layers will freeze during training\n",
    "    \"\"\"\n",
    "    \n",
    "    # Pretrained convolutional layers are loaded using the Imagenet weights.\n",
    "    # Include_top is set to False, in order to exclude the model's fully-connected layers.\n",
    "    conv_base = Xception(input_shape= IMG_Shape, weights='imagenet', include_top=False)\n",
    "    \n",
    "    # Defines how many layers to freeze during training.\n",
    "    # Layers in the convolutional base are switched from trainable to non-trainable\n",
    "    # depending on the size of the fine-tuning parameter.\n",
    "    if fine_tune > 0:\n",
    "        for layer in conv_base.layers[:-fine_tune]:\n",
    "            layer.trainable = False\n",
    "    else:\n",
    "        for layer in conv_base.layers:\n",
    "            layer.trainable = False\n",
    "\n",
    "    # Create a new 'top' of the model (i.e. fully-connected layers).\n",
    "    # This is 'bootstrapping' a new top_model onto the pretrained layers.\n",
    "    top_model = conv_base.output\n",
    "    top_model = Flatten(name=\"flatten\")(top_model)\n",
    "    top_model = tf.keras.layers.Dense(2000, activation = 'relu')(top_model)\n",
    "    top_model = tf.keras.layers.Dropout(0.3)(top_model) \n",
    "    top_model = tf.keras.layers.Dense(1000, activation = 'relu')(top_model)\n",
    "    top_model = tf.keras.layers.Dropout(0.2)(top_model)    \n",
    "    top_model = tf.keras.layers.Dense(200, activation = 'relu')(top_model)\n",
    "    top_model = tf.keras.layers.Dropout(0.15)(top_model)\n",
    "    output_layer = tf.keras.layers.Dense(n_classes, activation='softmax')(top_model)\n",
    "    \n",
    "    # Group the convolutional base and new fully-connected layers into a Model object.\n",
    "    model = Model(inputs=conv_base.input, outputs=output_layer)\n",
    "\n",
    "    # Compiles the model for training.\n",
    "    model.compile(optimizer=opt, \n",
    "                  loss='binary_crossentropy',\n",
    "                  metrics=['accuracy'])\n",
    "    model.summary()\n",
    "    \n",
    "    return model"
   ]
  },
  {
   "cell_type": "markdown",
   "id": "dd424780",
   "metadata": {
    "papermill": {
     "duration": 0.006741,
     "end_time": "2022-08-27T15:38:50.246114",
     "exception": false,
     "start_time": "2022-08-27T15:38:50.239373",
     "status": "completed"
    },
    "tags": []
   },
   "source": [
    "**Training the model without Fine-Tuning**"
   ]
  },
  {
   "cell_type": "code",
   "execution_count": 11,
   "id": "0a0f19b6",
   "metadata": {
    "execution": {
     "iopub.execute_input": "2022-08-27T15:38:50.261862Z",
     "iopub.status.busy": "2022-08-27T15:38:50.261559Z",
     "iopub.status.idle": "2022-08-27T15:38:52.203187Z",
     "shell.execute_reply": "2022-08-27T15:38:52.197074Z"
    },
    "papermill": {
     "duration": 1.952939,
     "end_time": "2022-08-27T15:38:52.205920",
     "exception": false,
     "start_time": "2022-08-27T15:38:50.252981",
     "status": "completed"
    },
    "tags": []
   },
   "outputs": [
    {
     "name": "stdout",
     "output_type": "stream",
     "text": [
      "Downloading data from https://storage.googleapis.com/tensorflow/keras-applications/xception/xception_weights_tf_dim_ordering_tf_kernels_notop.h5\n",
      "83689472/83683744 [==============================] - 1s 0us/step\n",
      "83697664/83683744 [==============================] - 1s 0us/step\n",
      "Model: \"model\"\n",
      "__________________________________________________________________________________________________\n",
      "Layer (type)                    Output Shape         Param #     Connected to                     \n",
      "==================================================================================================\n",
      "input_1 (InputLayer)            [(None, 224, 224, 3) 0                                            \n",
      "__________________________________________________________________________________________________\n",
      "block1_conv1 (Conv2D)           (None, 111, 111, 32) 864         input_1[0][0]                    \n",
      "__________________________________________________________________________________________________\n",
      "block1_conv1_bn (BatchNormaliza (None, 111, 111, 32) 128         block1_conv1[0][0]               \n",
      "__________________________________________________________________________________________________\n",
      "block1_conv1_act (Activation)   (None, 111, 111, 32) 0           block1_conv1_bn[0][0]            \n",
      "__________________________________________________________________________________________________\n",
      "block1_conv2 (Conv2D)           (None, 109, 109, 64) 18432       block1_conv1_act[0][0]           \n",
      "__________________________________________________________________________________________________\n",
      "block1_conv2_bn (BatchNormaliza (None, 109, 109, 64) 256         block1_conv2[0][0]               \n",
      "__________________________________________________________________________________________________\n",
      "block1_conv2_act (Activation)   (None, 109, 109, 64) 0           block1_conv2_bn[0][0]            \n",
      "__________________________________________________________________________________________________\n",
      "block2_sepconv1 (SeparableConv2 (None, 109, 109, 128 8768        block1_conv2_act[0][0]           \n",
      "__________________________________________________________________________________________________\n",
      "block2_sepconv1_bn (BatchNormal (None, 109, 109, 128 512         block2_sepconv1[0][0]            \n",
      "__________________________________________________________________________________________________\n",
      "block2_sepconv2_act (Activation (None, 109, 109, 128 0           block2_sepconv1_bn[0][0]         \n",
      "__________________________________________________________________________________________________\n",
      "block2_sepconv2 (SeparableConv2 (None, 109, 109, 128 17536       block2_sepconv2_act[0][0]        \n",
      "__________________________________________________________________________________________________\n",
      "block2_sepconv2_bn (BatchNormal (None, 109, 109, 128 512         block2_sepconv2[0][0]            \n",
      "__________________________________________________________________________________________________\n",
      "conv2d (Conv2D)                 (None, 55, 55, 128)  8192        block1_conv2_act[0][0]           \n",
      "__________________________________________________________________________________________________\n",
      "block2_pool (MaxPooling2D)      (None, 55, 55, 128)  0           block2_sepconv2_bn[0][0]         \n",
      "__________________________________________________________________________________________________\n",
      "batch_normalization (BatchNorma (None, 55, 55, 128)  512         conv2d[0][0]                     \n",
      "__________________________________________________________________________________________________\n",
      "add (Add)                       (None, 55, 55, 128)  0           block2_pool[0][0]                \n",
      "                                                                 batch_normalization[0][0]        \n",
      "__________________________________________________________________________________________________\n",
      "block3_sepconv1_act (Activation (None, 55, 55, 128)  0           add[0][0]                        \n",
      "__________________________________________________________________________________________________\n",
      "block3_sepconv1 (SeparableConv2 (None, 55, 55, 256)  33920       block3_sepconv1_act[0][0]        \n",
      "__________________________________________________________________________________________________\n",
      "block3_sepconv1_bn (BatchNormal (None, 55, 55, 256)  1024        block3_sepconv1[0][0]            \n",
      "__________________________________________________________________________________________________\n",
      "block3_sepconv2_act (Activation (None, 55, 55, 256)  0           block3_sepconv1_bn[0][0]         \n",
      "__________________________________________________________________________________________________\n",
      "block3_sepconv2 (SeparableConv2 (None, 55, 55, 256)  67840       block3_sepconv2_act[0][0]        \n",
      "__________________________________________________________________________________________________\n",
      "block3_sepconv2_bn (BatchNormal (None, 55, 55, 256)  1024        block3_sepconv2[0][0]            \n",
      "__________________________________________________________________________________________________\n",
      "conv2d_1 (Conv2D)               (None, 28, 28, 256)  32768       add[0][0]                        \n",
      "__________________________________________________________________________________________________\n",
      "block3_pool (MaxPooling2D)      (None, 28, 28, 256)  0           block3_sepconv2_bn[0][0]         \n",
      "__________________________________________________________________________________________________\n",
      "batch_normalization_1 (BatchNor (None, 28, 28, 256)  1024        conv2d_1[0][0]                   \n",
      "__________________________________________________________________________________________________\n",
      "add_1 (Add)                     (None, 28, 28, 256)  0           block3_pool[0][0]                \n",
      "                                                                 batch_normalization_1[0][0]      \n",
      "__________________________________________________________________________________________________\n",
      "block4_sepconv1_act (Activation (None, 28, 28, 256)  0           add_1[0][0]                      \n",
      "__________________________________________________________________________________________________\n",
      "block4_sepconv1 (SeparableConv2 (None, 28, 28, 728)  188672      block4_sepconv1_act[0][0]        \n",
      "__________________________________________________________________________________________________\n",
      "block4_sepconv1_bn (BatchNormal (None, 28, 28, 728)  2912        block4_sepconv1[0][0]            \n",
      "__________________________________________________________________________________________________\n",
      "block4_sepconv2_act (Activation (None, 28, 28, 728)  0           block4_sepconv1_bn[0][0]         \n",
      "__________________________________________________________________________________________________\n",
      "block4_sepconv2 (SeparableConv2 (None, 28, 28, 728)  536536      block4_sepconv2_act[0][0]        \n",
      "__________________________________________________________________________________________________\n",
      "block4_sepconv2_bn (BatchNormal (None, 28, 28, 728)  2912        block4_sepconv2[0][0]            \n",
      "__________________________________________________________________________________________________\n",
      "conv2d_2 (Conv2D)               (None, 14, 14, 728)  186368      add_1[0][0]                      \n",
      "__________________________________________________________________________________________________\n",
      "block4_pool (MaxPooling2D)      (None, 14, 14, 728)  0           block4_sepconv2_bn[0][0]         \n",
      "__________________________________________________________________________________________________\n",
      "batch_normalization_2 (BatchNor (None, 14, 14, 728)  2912        conv2d_2[0][0]                   \n",
      "__________________________________________________________________________________________________\n",
      "add_2 (Add)                     (None, 14, 14, 728)  0           block4_pool[0][0]                \n",
      "                                                                 batch_normalization_2[0][0]      \n",
      "__________________________________________________________________________________________________\n",
      "block5_sepconv1_act (Activation (None, 14, 14, 728)  0           add_2[0][0]                      \n",
      "__________________________________________________________________________________________________\n",
      "block5_sepconv1 (SeparableConv2 (None, 14, 14, 728)  536536      block5_sepconv1_act[0][0]        \n",
      "__________________________________________________________________________________________________\n",
      "block5_sepconv1_bn (BatchNormal (None, 14, 14, 728)  2912        block5_sepconv1[0][0]            \n",
      "__________________________________________________________________________________________________\n",
      "block5_sepconv2_act (Activation (None, 14, 14, 728)  0           block5_sepconv1_bn[0][0]         \n",
      "__________________________________________________________________________________________________\n",
      "block5_sepconv2 (SeparableConv2 (None, 14, 14, 728)  536536      block5_sepconv2_act[0][0]        \n",
      "__________________________________________________________________________________________________\n",
      "block5_sepconv2_bn (BatchNormal (None, 14, 14, 728)  2912        block5_sepconv2[0][0]            \n",
      "__________________________________________________________________________________________________\n",
      "block5_sepconv3_act (Activation (None, 14, 14, 728)  0           block5_sepconv2_bn[0][0]         \n",
      "__________________________________________________________________________________________________\n",
      "block5_sepconv3 (SeparableConv2 (None, 14, 14, 728)  536536      block5_sepconv3_act[0][0]        \n",
      "__________________________________________________________________________________________________\n",
      "block5_sepconv3_bn (BatchNormal (None, 14, 14, 728)  2912        block5_sepconv3[0][0]            \n",
      "__________________________________________________________________________________________________\n",
      "add_3 (Add)                     (None, 14, 14, 728)  0           block5_sepconv3_bn[0][0]         \n",
      "                                                                 add_2[0][0]                      \n",
      "__________________________________________________________________________________________________\n",
      "block6_sepconv1_act (Activation (None, 14, 14, 728)  0           add_3[0][0]                      \n",
      "__________________________________________________________________________________________________\n",
      "block6_sepconv1 (SeparableConv2 (None, 14, 14, 728)  536536      block6_sepconv1_act[0][0]        \n",
      "__________________________________________________________________________________________________\n",
      "block6_sepconv1_bn (BatchNormal (None, 14, 14, 728)  2912        block6_sepconv1[0][0]            \n",
      "__________________________________________________________________________________________________\n",
      "block6_sepconv2_act (Activation (None, 14, 14, 728)  0           block6_sepconv1_bn[0][0]         \n",
      "__________________________________________________________________________________________________\n",
      "block6_sepconv2 (SeparableConv2 (None, 14, 14, 728)  536536      block6_sepconv2_act[0][0]        \n",
      "__________________________________________________________________________________________________\n",
      "block6_sepconv2_bn (BatchNormal (None, 14, 14, 728)  2912        block6_sepconv2[0][0]            \n",
      "__________________________________________________________________________________________________\n",
      "block6_sepconv3_act (Activation (None, 14, 14, 728)  0           block6_sepconv2_bn[0][0]         \n",
      "__________________________________________________________________________________________________\n",
      "block6_sepconv3 (SeparableConv2 (None, 14, 14, 728)  536536      block6_sepconv3_act[0][0]        \n",
      "__________________________________________________________________________________________________\n",
      "block6_sepconv3_bn (BatchNormal (None, 14, 14, 728)  2912        block6_sepconv3[0][0]            \n",
      "__________________________________________________________________________________________________\n",
      "add_4 (Add)                     (None, 14, 14, 728)  0           block6_sepconv3_bn[0][0]         \n",
      "                                                                 add_3[0][0]                      \n",
      "__________________________________________________________________________________________________\n",
      "block7_sepconv1_act (Activation (None, 14, 14, 728)  0           add_4[0][0]                      \n",
      "__________________________________________________________________________________________________\n",
      "block7_sepconv1 (SeparableConv2 (None, 14, 14, 728)  536536      block7_sepconv1_act[0][0]        \n",
      "__________________________________________________________________________________________________\n",
      "block7_sepconv1_bn (BatchNormal (None, 14, 14, 728)  2912        block7_sepconv1[0][0]            \n",
      "__________________________________________________________________________________________________\n",
      "block7_sepconv2_act (Activation (None, 14, 14, 728)  0           block7_sepconv1_bn[0][0]         \n",
      "__________________________________________________________________________________________________\n",
      "block7_sepconv2 (SeparableConv2 (None, 14, 14, 728)  536536      block7_sepconv2_act[0][0]        \n",
      "__________________________________________________________________________________________________\n",
      "block7_sepconv2_bn (BatchNormal (None, 14, 14, 728)  2912        block7_sepconv2[0][0]            \n",
      "__________________________________________________________________________________________________\n",
      "block7_sepconv3_act (Activation (None, 14, 14, 728)  0           block7_sepconv2_bn[0][0]         \n",
      "__________________________________________________________________________________________________\n",
      "block7_sepconv3 (SeparableConv2 (None, 14, 14, 728)  536536      block7_sepconv3_act[0][0]        \n",
      "__________________________________________________________________________________________________\n",
      "block7_sepconv3_bn (BatchNormal (None, 14, 14, 728)  2912        block7_sepconv3[0][0]            \n",
      "__________________________________________________________________________________________________\n",
      "add_5 (Add)                     (None, 14, 14, 728)  0           block7_sepconv3_bn[0][0]         \n",
      "                                                                 add_4[0][0]                      \n",
      "__________________________________________________________________________________________________\n",
      "block8_sepconv1_act (Activation (None, 14, 14, 728)  0           add_5[0][0]                      \n",
      "__________________________________________________________________________________________________\n",
      "block8_sepconv1 (SeparableConv2 (None, 14, 14, 728)  536536      block8_sepconv1_act[0][0]        \n",
      "__________________________________________________________________________________________________\n",
      "block8_sepconv1_bn (BatchNormal (None, 14, 14, 728)  2912        block8_sepconv1[0][0]            \n",
      "__________________________________________________________________________________________________\n",
      "block8_sepconv2_act (Activation (None, 14, 14, 728)  0           block8_sepconv1_bn[0][0]         \n",
      "__________________________________________________________________________________________________\n",
      "block8_sepconv2 (SeparableConv2 (None, 14, 14, 728)  536536      block8_sepconv2_act[0][0]        \n",
      "__________________________________________________________________________________________________\n",
      "block8_sepconv2_bn (BatchNormal (None, 14, 14, 728)  2912        block8_sepconv2[0][0]            \n",
      "__________________________________________________________________________________________________\n",
      "block8_sepconv3_act (Activation (None, 14, 14, 728)  0           block8_sepconv2_bn[0][0]         \n",
      "__________________________________________________________________________________________________\n",
      "block8_sepconv3 (SeparableConv2 (None, 14, 14, 728)  536536      block8_sepconv3_act[0][0]        \n",
      "__________________________________________________________________________________________________\n",
      "block8_sepconv3_bn (BatchNormal (None, 14, 14, 728)  2912        block8_sepconv3[0][0]            \n",
      "__________________________________________________________________________________________________\n",
      "add_6 (Add)                     (None, 14, 14, 728)  0           block8_sepconv3_bn[0][0]         \n",
      "                                                                 add_5[0][0]                      \n",
      "__________________________________________________________________________________________________\n",
      "block9_sepconv1_act (Activation (None, 14, 14, 728)  0           add_6[0][0]                      \n",
      "__________________________________________________________________________________________________\n",
      "block9_sepconv1 (SeparableConv2 (None, 14, 14, 728)  536536      block9_sepconv1_act[0][0]        \n",
      "__________________________________________________________________________________________________\n",
      "block9_sepconv1_bn (BatchNormal (None, 14, 14, 728)  2912        block9_sepconv1[0][0]            \n",
      "__________________________________________________________________________________________________\n",
      "block9_sepconv2_act (Activation (None, 14, 14, 728)  0           block9_sepconv1_bn[0][0]         \n",
      "__________________________________________________________________________________________________\n",
      "block9_sepconv2 (SeparableConv2 (None, 14, 14, 728)  536536      block9_sepconv2_act[0][0]        \n",
      "__________________________________________________________________________________________________\n",
      "block9_sepconv2_bn (BatchNormal (None, 14, 14, 728)  2912        block9_sepconv2[0][0]            \n",
      "__________________________________________________________________________________________________\n",
      "block9_sepconv3_act (Activation (None, 14, 14, 728)  0           block9_sepconv2_bn[0][0]         \n",
      "__________________________________________________________________________________________________\n",
      "block9_sepconv3 (SeparableConv2 (None, 14, 14, 728)  536536      block9_sepconv3_act[0][0]        \n",
      "__________________________________________________________________________________________________\n",
      "block9_sepconv3_bn (BatchNormal (None, 14, 14, 728)  2912        block9_sepconv3[0][0]            \n",
      "__________________________________________________________________________________________________\n",
      "add_7 (Add)                     (None, 14, 14, 728)  0           block9_sepconv3_bn[0][0]         \n",
      "                                                                 add_6[0][0]                      \n",
      "__________________________________________________________________________________________________\n",
      "block10_sepconv1_act (Activatio (None, 14, 14, 728)  0           add_7[0][0]                      \n",
      "__________________________________________________________________________________________________\n",
      "block10_sepconv1 (SeparableConv (None, 14, 14, 728)  536536      block10_sepconv1_act[0][0]       \n",
      "__________________________________________________________________________________________________\n",
      "block10_sepconv1_bn (BatchNorma (None, 14, 14, 728)  2912        block10_sepconv1[0][0]           \n",
      "__________________________________________________________________________________________________\n",
      "block10_sepconv2_act (Activatio (None, 14, 14, 728)  0           block10_sepconv1_bn[0][0]        \n",
      "__________________________________________________________________________________________________\n",
      "block10_sepconv2 (SeparableConv (None, 14, 14, 728)  536536      block10_sepconv2_act[0][0]       \n",
      "__________________________________________________________________________________________________\n",
      "block10_sepconv2_bn (BatchNorma (None, 14, 14, 728)  2912        block10_sepconv2[0][0]           \n",
      "__________________________________________________________________________________________________\n",
      "block10_sepconv3_act (Activatio (None, 14, 14, 728)  0           block10_sepconv2_bn[0][0]        \n",
      "__________________________________________________________________________________________________\n",
      "block10_sepconv3 (SeparableConv (None, 14, 14, 728)  536536      block10_sepconv3_act[0][0]       \n",
      "__________________________________________________________________________________________________\n",
      "block10_sepconv3_bn (BatchNorma (None, 14, 14, 728)  2912        block10_sepconv3[0][0]           \n",
      "__________________________________________________________________________________________________\n",
      "add_8 (Add)                     (None, 14, 14, 728)  0           block10_sepconv3_bn[0][0]        \n",
      "                                                                 add_7[0][0]                      \n",
      "__________________________________________________________________________________________________\n",
      "block11_sepconv1_act (Activatio (None, 14, 14, 728)  0           add_8[0][0]                      \n",
      "__________________________________________________________________________________________________\n",
      "block11_sepconv1 (SeparableConv (None, 14, 14, 728)  536536      block11_sepconv1_act[0][0]       \n",
      "__________________________________________________________________________________________________\n",
      "block11_sepconv1_bn (BatchNorma (None, 14, 14, 728)  2912        block11_sepconv1[0][0]           \n",
      "__________________________________________________________________________________________________\n",
      "block11_sepconv2_act (Activatio (None, 14, 14, 728)  0           block11_sepconv1_bn[0][0]        \n",
      "__________________________________________________________________________________________________\n",
      "block11_sepconv2 (SeparableConv (None, 14, 14, 728)  536536      block11_sepconv2_act[0][0]       \n",
      "__________________________________________________________________________________________________\n",
      "block11_sepconv2_bn (BatchNorma (None, 14, 14, 728)  2912        block11_sepconv2[0][0]           \n",
      "__________________________________________________________________________________________________\n",
      "block11_sepconv3_act (Activatio (None, 14, 14, 728)  0           block11_sepconv2_bn[0][0]        \n",
      "__________________________________________________________________________________________________\n",
      "block11_sepconv3 (SeparableConv (None, 14, 14, 728)  536536      block11_sepconv3_act[0][0]       \n",
      "__________________________________________________________________________________________________\n",
      "block11_sepconv3_bn (BatchNorma (None, 14, 14, 728)  2912        block11_sepconv3[0][0]           \n",
      "__________________________________________________________________________________________________\n",
      "add_9 (Add)                     (None, 14, 14, 728)  0           block11_sepconv3_bn[0][0]        \n",
      "                                                                 add_8[0][0]                      \n",
      "__________________________________________________________________________________________________\n",
      "block12_sepconv1_act (Activatio (None, 14, 14, 728)  0           add_9[0][0]                      \n",
      "__________________________________________________________________________________________________\n",
      "block12_sepconv1 (SeparableConv (None, 14, 14, 728)  536536      block12_sepconv1_act[0][0]       \n",
      "__________________________________________________________________________________________________\n",
      "block12_sepconv1_bn (BatchNorma (None, 14, 14, 728)  2912        block12_sepconv1[0][0]           \n",
      "__________________________________________________________________________________________________\n",
      "block12_sepconv2_act (Activatio (None, 14, 14, 728)  0           block12_sepconv1_bn[0][0]        \n",
      "__________________________________________________________________________________________________\n",
      "block12_sepconv2 (SeparableConv (None, 14, 14, 728)  536536      block12_sepconv2_act[0][0]       \n",
      "__________________________________________________________________________________________________\n",
      "block12_sepconv2_bn (BatchNorma (None, 14, 14, 728)  2912        block12_sepconv2[0][0]           \n",
      "__________________________________________________________________________________________________\n",
      "block12_sepconv3_act (Activatio (None, 14, 14, 728)  0           block12_sepconv2_bn[0][0]        \n",
      "__________________________________________________________________________________________________\n",
      "block12_sepconv3 (SeparableConv (None, 14, 14, 728)  536536      block12_sepconv3_act[0][0]       \n",
      "__________________________________________________________________________________________________\n",
      "block12_sepconv3_bn (BatchNorma (None, 14, 14, 728)  2912        block12_sepconv3[0][0]           \n",
      "__________________________________________________________________________________________________\n",
      "add_10 (Add)                    (None, 14, 14, 728)  0           block12_sepconv3_bn[0][0]        \n",
      "                                                                 add_9[0][0]                      \n",
      "__________________________________________________________________________________________________\n",
      "block13_sepconv1_act (Activatio (None, 14, 14, 728)  0           add_10[0][0]                     \n",
      "__________________________________________________________________________________________________\n",
      "block13_sepconv1 (SeparableConv (None, 14, 14, 728)  536536      block13_sepconv1_act[0][0]       \n",
      "__________________________________________________________________________________________________\n",
      "block13_sepconv1_bn (BatchNorma (None, 14, 14, 728)  2912        block13_sepconv1[0][0]           \n",
      "__________________________________________________________________________________________________\n",
      "block13_sepconv2_act (Activatio (None, 14, 14, 728)  0           block13_sepconv1_bn[0][0]        \n",
      "__________________________________________________________________________________________________\n",
      "block13_sepconv2 (SeparableConv (None, 14, 14, 1024) 752024      block13_sepconv2_act[0][0]       \n",
      "__________________________________________________________________________________________________\n",
      "block13_sepconv2_bn (BatchNorma (None, 14, 14, 1024) 4096        block13_sepconv2[0][0]           \n",
      "__________________________________________________________________________________________________\n",
      "conv2d_3 (Conv2D)               (None, 7, 7, 1024)   745472      add_10[0][0]                     \n",
      "__________________________________________________________________________________________________\n",
      "block13_pool (MaxPooling2D)     (None, 7, 7, 1024)   0           block13_sepconv2_bn[0][0]        \n",
      "__________________________________________________________________________________________________\n",
      "batch_normalization_3 (BatchNor (None, 7, 7, 1024)   4096        conv2d_3[0][0]                   \n",
      "__________________________________________________________________________________________________\n",
      "add_11 (Add)                    (None, 7, 7, 1024)   0           block13_pool[0][0]               \n",
      "                                                                 batch_normalization_3[0][0]      \n",
      "__________________________________________________________________________________________________\n",
      "block14_sepconv1 (SeparableConv (None, 7, 7, 1536)   1582080     add_11[0][0]                     \n",
      "__________________________________________________________________________________________________\n",
      "block14_sepconv1_bn (BatchNorma (None, 7, 7, 1536)   6144        block14_sepconv1[0][0]           \n",
      "__________________________________________________________________________________________________\n",
      "block14_sepconv1_act (Activatio (None, 7, 7, 1536)   0           block14_sepconv1_bn[0][0]        \n",
      "__________________________________________________________________________________________________\n",
      "block14_sepconv2 (SeparableConv (None, 7, 7, 2048)   3159552     block14_sepconv1_act[0][0]       \n",
      "__________________________________________________________________________________________________\n",
      "block14_sepconv2_bn (BatchNorma (None, 7, 7, 2048)   8192        block14_sepconv2[0][0]           \n",
      "__________________________________________________________________________________________________\n",
      "block14_sepconv2_act (Activatio (None, 7, 7, 2048)   0           block14_sepconv2_bn[0][0]        \n",
      "__________________________________________________________________________________________________\n",
      "flatten (Flatten)               (None, 100352)       0           block14_sepconv2_act[0][0]       \n",
      "__________________________________________________________________________________________________\n",
      "dense (Dense)                   (None, 2000)         200706000   flatten[0][0]                    \n",
      "__________________________________________________________________________________________________\n",
      "dropout (Dropout)               (None, 2000)         0           dense[0][0]                      \n",
      "__________________________________________________________________________________________________\n",
      "dense_1 (Dense)                 (None, 1000)         2001000     dropout[0][0]                    \n",
      "__________________________________________________________________________________________________\n",
      "dropout_1 (Dropout)             (None, 1000)         0           dense_1[0][0]                    \n",
      "__________________________________________________________________________________________________\n",
      "dense_2 (Dense)                 (None, 200)          200200      dropout_1[0][0]                  \n",
      "__________________________________________________________________________________________________\n",
      "dropout_2 (Dropout)             (None, 200)          0           dense_2[0][0]                    \n",
      "__________________________________________________________________________________________________\n",
      "dense_3 (Dense)                 (None, 2)            402         dropout_2[0][0]                  \n",
      "==================================================================================================\n",
      "Total params: 223,769,082\n",
      "Trainable params: 202,907,602\n",
      "Non-trainable params: 20,861,480\n",
      "__________________________________________________________________________________________________\n"
     ]
    }
   ],
   "source": [
    "input_shape = (224, 224, 3)\n",
    "opt = tf.keras.optimizers.Adam(learning_rate=0.00001)\n",
    "n_classes = 2\n",
    "ft=-1\n",
    "\n",
    "# First we'll train the model without Fine-tuning\n",
    "model_noFt = create_model(input_shape, n_classes, opt, fine_tune=ft)"
   ]
  },
  {
   "cell_type": "code",
   "execution_count": 12,
   "id": "365f2cf8",
   "metadata": {
    "execution": {
     "iopub.execute_input": "2022-08-27T15:38:52.226363Z",
     "iopub.status.busy": "2022-08-27T15:38:52.224674Z",
     "iopub.status.idle": "2022-08-27T15:38:52.232059Z",
     "shell.execute_reply": "2022-08-27T15:38:52.230988Z"
    },
    "papermill": {
     "duration": 0.019724,
     "end_time": "2022-08-27T15:38:52.234502",
     "exception": false,
     "start_time": "2022-08-27T15:38:52.214778",
     "status": "completed"
    },
    "tags": []
   },
   "outputs": [
    {
     "data": {
      "text/plain": [
       "140"
      ]
     },
     "execution_count": 12,
     "metadata": {},
     "output_type": "execute_result"
    }
   ],
   "source": [
    "len(model_noFt.layers)"
   ]
  },
  {
   "cell_type": "code",
   "execution_count": 13,
   "id": "fb32ed8c",
   "metadata": {
    "execution": {
     "iopub.execute_input": "2022-08-27T15:38:52.252851Z",
     "iopub.status.busy": "2022-08-27T15:38:52.252562Z",
     "iopub.status.idle": "2022-08-27T15:38:52.260307Z",
     "shell.execute_reply": "2022-08-27T15:38:52.259268Z"
    },
    "papermill": {
     "duration": 0.019385,
     "end_time": "2022-08-27T15:38:52.262398",
     "exception": false,
     "start_time": "2022-08-27T15:38:52.243013",
     "status": "completed"
    },
    "tags": []
   },
   "outputs": [
    {
     "data": {
      "text/plain": [
       "{0: 1.1857142857142857, 1: 1.0}"
      ]
     },
     "execution_count": 13,
     "metadata": {},
     "output_type": "execute_result"
    }
   ],
   "source": [
    "from collections import Counter\n",
    "counter = Counter(train_ds.classes)                       \n",
    "max_val = float(max(counter.values()))\n",
    "class_weights = {class_id : max_val/num_images for class_id, num_images in counter.items()}\n",
    "class_weights"
   ]
  },
  {
   "cell_type": "code",
   "execution_count": 14,
   "id": "0aa8011b",
   "metadata": {
    "execution": {
     "iopub.execute_input": "2022-08-27T15:38:52.280666Z",
     "iopub.status.busy": "2022-08-27T15:38:52.280343Z",
     "iopub.status.idle": "2022-08-27T15:47:30.049800Z",
     "shell.execute_reply": "2022-08-27T15:47:30.048692Z"
    },
    "papermill": {
     "duration": 518.043231,
     "end_time": "2022-08-27T15:47:30.314040",
     "exception": false,
     "start_time": "2022-08-27T15:38:52.270809",
     "status": "completed"
    },
    "tags": []
   },
   "outputs": [
    {
     "name": "stdout",
     "output_type": "stream",
     "text": [
      "Epoch 1/50\n",
      "134/134 [==============================] - 27s 137ms/step - loss: 7.4771 - accuracy: 0.6125 - val_loss: 2.3791 - val_accuracy: 0.7738\n",
      "Epoch 2/50\n",
      "134/134 [==============================] - 10s 74ms/step - loss: 4.2832 - accuracy: 0.6755 - val_loss: 1.6242 - val_accuracy: 0.6857\n",
      "Epoch 3/50\n",
      "134/134 [==============================] - 10s 74ms/step - loss: 3.0359 - accuracy: 0.7087 - val_loss: 1.5714 - val_accuracy: 0.6762\n",
      "Epoch 4/50\n",
      "134/134 [==============================] - 10s 75ms/step - loss: 2.5819 - accuracy: 0.7246 - val_loss: 2.5082 - val_accuracy: 0.5429\n",
      "Epoch 5/50\n",
      "134/134 [==============================] - 10s 73ms/step - loss: 2.1520 - accuracy: 0.7325 - val_loss: 1.6542 - val_accuracy: 0.7143\n",
      "Epoch 6/50\n",
      "134/134 [==============================] - 10s 74ms/step - loss: 1.9146 - accuracy: 0.7572 - val_loss: 1.4792 - val_accuracy: 0.7119\n",
      "Epoch 7/50\n",
      "134/134 [==============================] - 10s 75ms/step - loss: 1.4628 - accuracy: 0.7754 - val_loss: 1.2348 - val_accuracy: 0.5762\n",
      "Epoch 8/50\n",
      "134/134 [==============================] - 10s 73ms/step - loss: 1.3042 - accuracy: 0.7894 - val_loss: 1.0077 - val_accuracy: 0.6595\n",
      "Epoch 9/50\n",
      "134/134 [==============================] - 10s 74ms/step - loss: 1.2093 - accuracy: 0.7941 - val_loss: 1.1360 - val_accuracy: 0.7048\n",
      "Epoch 10/50\n",
      "134/134 [==============================] - 10s 73ms/step - loss: 1.1458 - accuracy: 0.8025 - val_loss: 1.1328 - val_accuracy: 0.6690\n",
      "Epoch 11/50\n",
      "134/134 [==============================] - 10s 74ms/step - loss: 1.0554 - accuracy: 0.8109 - val_loss: 1.1614 - val_accuracy: 0.6595\n",
      "Epoch 12/50\n",
      "134/134 [==============================] - 10s 75ms/step - loss: 0.9309 - accuracy: 0.8249 - val_loss: 1.1588 - val_accuracy: 0.7190\n",
      "Epoch 13/50\n",
      "134/134 [==============================] - 10s 74ms/step - loss: 0.7681 - accuracy: 0.8338 - val_loss: 1.2928 - val_accuracy: 0.6786\n",
      "Epoch 14/50\n",
      "134/134 [==============================] - 10s 74ms/step - loss: 0.7179 - accuracy: 0.8427 - val_loss: 0.9802 - val_accuracy: 0.7429\n",
      "Epoch 15/50\n",
      "134/134 [==============================] - 10s 74ms/step - loss: 0.7062 - accuracy: 0.8338 - val_loss: 1.0776 - val_accuracy: 0.6857\n",
      "Epoch 16/50\n",
      "134/134 [==============================] - 10s 76ms/step - loss: 0.5820 - accuracy: 0.8534 - val_loss: 1.1876 - val_accuracy: 0.6405\n",
      "Epoch 17/50\n",
      "134/134 [==============================] - 10s 75ms/step - loss: 0.5457 - accuracy: 0.8604 - val_loss: 1.3642 - val_accuracy: 0.6310\n",
      "Epoch 18/50\n",
      "134/134 [==============================] - 10s 74ms/step - loss: 0.5350 - accuracy: 0.8609 - val_loss: 1.2791 - val_accuracy: 0.6095\n",
      "Epoch 19/50\n",
      "134/134 [==============================] - 10s 73ms/step - loss: 0.4799 - accuracy: 0.8651 - val_loss: 1.2904 - val_accuracy: 0.6048\n",
      "Epoch 20/50\n",
      "134/134 [==============================] - 10s 74ms/step - loss: 0.4521 - accuracy: 0.8739 - val_loss: 1.2369 - val_accuracy: 0.6095\n",
      "Epoch 21/50\n",
      "134/134 [==============================] - 10s 75ms/step - loss: 0.4342 - accuracy: 0.8768 - val_loss: 1.0016 - val_accuracy: 0.7095\n",
      "Epoch 22/50\n",
      "134/134 [==============================] - 10s 74ms/step - loss: 0.3600 - accuracy: 0.8940 - val_loss: 1.2817 - val_accuracy: 0.6476\n",
      "Epoch 23/50\n",
      "134/134 [==============================] - 10s 74ms/step - loss: 0.4364 - accuracy: 0.8763 - val_loss: 1.0982 - val_accuracy: 0.7143\n",
      "Epoch 24/50\n",
      "134/134 [==============================] - 10s 75ms/step - loss: 0.3431 - accuracy: 0.9034 - val_loss: 1.1398 - val_accuracy: 0.6952\n",
      "Epoch 25/50\n",
      "134/134 [==============================] - 10s 73ms/step - loss: 0.3265 - accuracy: 0.8973 - val_loss: 1.1907 - val_accuracy: 0.6452\n",
      "Epoch 26/50\n",
      "134/134 [==============================] - 10s 74ms/step - loss: 0.2712 - accuracy: 0.9076 - val_loss: 1.0639 - val_accuracy: 0.6905\n",
      "Epoch 27/50\n",
      "134/134 [==============================] - 10s 73ms/step - loss: 0.2686 - accuracy: 0.9188 - val_loss: 1.2170 - val_accuracy: 0.6571\n",
      "Epoch 28/50\n",
      "134/134 [==============================] - 10s 76ms/step - loss: 0.2771 - accuracy: 0.9122 - val_loss: 1.2765 - val_accuracy: 0.6714\n",
      "Epoch 29/50\n",
      "134/134 [==============================] - 10s 73ms/step - loss: 0.2763 - accuracy: 0.9136 - val_loss: 1.0422 - val_accuracy: 0.6929\n",
      "Epoch 30/50\n",
      "134/134 [==============================] - 10s 73ms/step - loss: 0.2612 - accuracy: 0.9183 - val_loss: 1.3721 - val_accuracy: 0.6167\n",
      "Epoch 31/50\n",
      "134/134 [==============================] - 10s 74ms/step - loss: 0.2599 - accuracy: 0.9146 - val_loss: 1.1533 - val_accuracy: 0.6571\n",
      "Epoch 32/50\n",
      "134/134 [==============================] - 10s 75ms/step - loss: 0.2042 - accuracy: 0.9337 - val_loss: 1.0884 - val_accuracy: 0.6667\n",
      "Epoch 33/50\n",
      "134/134 [==============================] - 10s 74ms/step - loss: 0.1948 - accuracy: 0.9370 - val_loss: 1.3018 - val_accuracy: 0.6429\n",
      "Epoch 34/50\n",
      "134/134 [==============================] - 10s 73ms/step - loss: 0.2210 - accuracy: 0.9281 - val_loss: 1.3259 - val_accuracy: 0.6595\n",
      "Epoch 35/50\n",
      "134/134 [==============================] - 10s 77ms/step - loss: 0.1869 - accuracy: 0.9379 - val_loss: 1.1400 - val_accuracy: 0.6571\n",
      "Epoch 36/50\n",
      "134/134 [==============================] - 10s 74ms/step - loss: 0.1736 - accuracy: 0.9374 - val_loss: 1.3235 - val_accuracy: 0.6738\n",
      "Epoch 37/50\n",
      "134/134 [==============================] - 10s 74ms/step - loss: 0.1988 - accuracy: 0.9290 - val_loss: 1.2965 - val_accuracy: 0.6381\n",
      "Epoch 38/50\n",
      "134/134 [==============================] - 10s 74ms/step - loss: 0.1926 - accuracy: 0.9346 - val_loss: 1.3529 - val_accuracy: 0.6643\n",
      "Epoch 39/50\n",
      "134/134 [==============================] - 10s 74ms/step - loss: 0.1576 - accuracy: 0.9472 - val_loss: 1.1823 - val_accuracy: 0.6429\n",
      "Epoch 40/50\n",
      "134/134 [==============================] - 10s 75ms/step - loss: 0.1300 - accuracy: 0.9519 - val_loss: 1.3650 - val_accuracy: 0.6238\n",
      "Epoch 41/50\n",
      "134/134 [==============================] - 10s 73ms/step - loss: 0.1562 - accuracy: 0.9449 - val_loss: 1.2063 - val_accuracy: 0.6548\n",
      "Epoch 42/50\n",
      "134/134 [==============================] - 10s 74ms/step - loss: 0.1323 - accuracy: 0.9585 - val_loss: 1.3804 - val_accuracy: 0.6476\n",
      "Epoch 43/50\n",
      "134/134 [==============================] - 10s 76ms/step - loss: 0.1712 - accuracy: 0.9486 - val_loss: 1.6157 - val_accuracy: 0.6071\n",
      "Epoch 44/50\n",
      "134/134 [==============================] - 10s 74ms/step - loss: 0.1775 - accuracy: 0.9463 - val_loss: 1.7422 - val_accuracy: 0.6024\n",
      "Epoch 45/50\n",
      "134/134 [==============================] - 10s 74ms/step - loss: 0.1590 - accuracy: 0.9491 - val_loss: 1.3579 - val_accuracy: 0.6929\n",
      "Epoch 46/50\n",
      "134/134 [==============================] - 10s 76ms/step - loss: 0.1205 - accuracy: 0.9585 - val_loss: 1.1811 - val_accuracy: 0.6190\n",
      "Epoch 47/50\n",
      "134/134 [==============================] - 10s 74ms/step - loss: 0.0825 - accuracy: 0.9753 - val_loss: 1.5576 - val_accuracy: 0.6619\n",
      "Epoch 48/50\n",
      "134/134 [==============================] - 10s 73ms/step - loss: 0.1242 - accuracy: 0.9575 - val_loss: 1.2971 - val_accuracy: 0.6238\n",
      "Epoch 49/50\n",
      "134/134 [==============================] - 10s 74ms/step - loss: 0.1125 - accuracy: 0.9580 - val_loss: 1.6554 - val_accuracy: 0.6738\n",
      "Epoch 50/50\n",
      "134/134 [==============================] - 10s 75ms/step - loss: 0.1443 - accuracy: 0.9519 - val_loss: 1.5935 - val_accuracy: 0.6595\n"
     ]
    }
   ],
   "source": [
    "history = model_noFt.fit(train_ds,\n",
    "                    epochs = 50,\n",
    "                    #steps_per_epoch = STEP_SIZE_TRAIN,\n",
    "                    #class_weight = class_weights,\n",
    "                    validation_data = val_ds,\n",
    "                    #validation_steps = STEP_SIZE_VALID,\n",
    "                    #callbacks=[checkpoint, early_stop, PlotLossesKeras()]\n",
    "                    )"
   ]
  },
  {
   "cell_type": "code",
   "execution_count": 15,
   "id": "59a7096f",
   "metadata": {
    "execution": {
     "iopub.execute_input": "2022-08-27T15:47:31.070447Z",
     "iopub.status.busy": "2022-08-27T15:47:31.070077Z",
     "iopub.status.idle": "2022-08-27T15:47:32.547305Z",
     "shell.execute_reply": "2022-08-27T15:47:32.546094Z"
    },
    "papermill": {
     "duration": 1.836153,
     "end_time": "2022-08-27T15:47:32.549937",
     "exception": false,
     "start_time": "2022-08-27T15:47:30.713784",
     "status": "completed"
    },
    "tags": []
   },
   "outputs": [
    {
     "name": "stdout",
     "output_type": "stream",
     "text": [
      "Xception Model Accuracy: 48.89%\n"
     ]
    }
   ],
   "source": [
    "model_preds = model_noFt.predict(test_ds,test_ds.samples//test_ds.batch_size+1)\n",
    "model_pred_classes = np.argmax(model_preds , axis=1)\n",
    "\n",
    "from sklearn.metrics import accuracy_score\n",
    "true_classes = test_ds.classes\n",
    "acc = accuracy_score(true_classes, model_pred_classes)\n",
    "print(\"Xception Model Accuracy: {:.2f}%\".format(acc * 100))\n",
    "\n",
    "# model_preds = model.predict(val_data,val_data.samples//val_data.batch_size+1)\n",
    "# model_pred_classes = np.argmax(model_preds , axis=1)\n",
    "\n",
    "\n",
    "# from sklearn.metrics import precision_score, recall_score, f1_score, accuracy_score\n",
    "# true_classes = val_data.classes\n",
    "# acc = accuracy_score(true_classes, model_pred_classes)\n",
    "# print(\"MobileNetV2 Model Accuracy: {:.2f}%\".format(acc * 100))\n",
    "\n",
    "# print('Precision: %.3f' % precision_score(true_classes, model_pred_classes))\n",
    "# print('Recall: %.3f' % recall_score(true_classes, model_pred_classes))\n",
    "# print('F1 Score: %.3f' % f1_score(true_classes, model_pred_classes))"
   ]
  },
  {
   "cell_type": "code",
   "execution_count": 16,
   "id": "e2ce9b74",
   "metadata": {
    "execution": {
     "iopub.execute_input": "2022-08-27T15:47:33.260155Z",
     "iopub.status.busy": "2022-08-27T15:47:33.259475Z",
     "iopub.status.idle": "2022-08-27T15:47:33.271162Z",
     "shell.execute_reply": "2022-08-27T15:47:33.270011Z"
    },
    "papermill": {
     "duration": 0.370846,
     "end_time": "2022-08-27T15:47:33.273989",
     "exception": false,
     "start_time": "2022-08-27T15:47:32.903143",
     "status": "completed"
    },
    "tags": []
   },
   "outputs": [
    {
     "name": "stdout",
     "output_type": "stream",
     "text": [
      "[[11  9]\n",
      " [14 11]]\n",
      "Classification Report\n",
      "              precision    recall  f1-score   support\n",
      "\n",
      "   Monkeypox       0.44      0.55      0.49        20\n",
      "      Others       0.55      0.44      0.49        25\n",
      "\n",
      "    accuracy                           0.49        45\n",
      "   macro avg       0.49      0.49      0.49        45\n",
      "weighted avg       0.50      0.49      0.49        45\n",
      "\n"
     ]
    }
   ],
   "source": [
    "print(confusion_matrix(test_ds.classes, model_pred_classes))\n",
    "print('Classification Report')\n",
    "target_names = ['Monkeypox', 'Others']\n",
    "print(classification_report(test_ds.classes, model_pred_classes, target_names=target_names))"
   ]
  },
  {
   "cell_type": "code",
   "execution_count": 17,
   "id": "3202fcdf",
   "metadata": {
    "execution": {
     "iopub.execute_input": "2022-08-27T15:47:34.043162Z",
     "iopub.status.busy": "2022-08-27T15:47:34.041197Z",
     "iopub.status.idle": "2022-08-27T15:47:34.275654Z",
     "shell.execute_reply": "2022-08-27T15:47:34.274454Z"
    },
    "papermill": {
     "duration": 0.596098,
     "end_time": "2022-08-27T15:47:34.279802",
     "exception": false,
     "start_time": "2022-08-27T15:47:33.683704",
     "status": "completed"
    },
    "tags": []
   },
   "outputs": [
    {
     "data": {
      "text/plain": [
       "(<Figure size 432x288 with 1 Axes>,\n",
       " <AxesSubplot:xlabel='predicted label', ylabel='true label'>)"
      ]
     },
     "execution_count": 17,
     "metadata": {},
     "output_type": "execute_result"
    },
    {
     "data": {
      "image/png": "[encoded data removed]",
      "text/plain": [
       "<Figure size 432x288 with 1 Axes>"
      ]
     },
     "metadata": {
      "needs_background": "light"
     },
     "output_type": "display_data"
    }
   ],
   "source": [
    "from mlxtend.plotting import plot_confusion_matrix\n",
    "x = confusion_matrix(test_ds.classes, model_pred_classes)\n",
    "plot_confusion_matrix(x)"
   ]
  },
  {
   "cell_type": "code",
   "execution_count": 18,
   "id": "23256a43",
   "metadata": {
    "execution": {
     "iopub.execute_input": "2022-08-27T15:47:35.042605Z",
     "iopub.status.busy": "2022-08-27T15:47:35.042224Z",
     "iopub.status.idle": "2022-08-27T15:47:35.048939Z",
     "shell.execute_reply": "2022-08-27T15:47:35.047887Z"
    },
    "papermill": {
     "duration": 0.365188,
     "end_time": "2022-08-27T15:47:35.050983",
     "exception": false,
     "start_time": "2022-08-27T15:47:34.685795",
     "status": "completed"
    },
    "tags": []
   },
   "outputs": [],
   "source": [
    "# Get the names of the ten classes\n",
    "class_names = test_ds.class_indices.keys()\n",
    "\n",
    "def plot_heatmap(y_true, y_pred, class_names, ax, title):\n",
    "    cm = confusion_matrix(y_true, y_pred)\n",
    "    sns.heatmap(\n",
    "        cm, \n",
    "        annot=True, \n",
    "        square=True, \n",
    "        xticklabels=class_names, \n",
    "        yticklabels=class_names,\n",
    "        fmt='d', \n",
    "        cmap=plt.cm.Greens, #Blues, YlGnBu, YlOrRd\n",
    "        cbar=False,\n",
    "        ax=ax\n",
    "    )\n",
    "    ax.set_title(title, fontsize=16)\n",
    "    ax.set_xticklabels(ax.get_xticklabels(), rotation=45, ha=\"right\")\n",
    "    ax.set_ylabel('True Label', fontsize=12)\n",
    "    ax.set_xlabel('Predicted Label', fontsize=12)"
   ]
  },
  {
   "cell_type": "code",
   "execution_count": 19,
   "id": "c47a792c",
   "metadata": {
    "execution": {
     "iopub.execute_input": "2022-08-27T15:47:35.831073Z",
     "iopub.status.busy": "2022-08-27T15:47:35.830363Z",
     "iopub.status.idle": "2022-08-27T15:47:36.109363Z",
     "shell.execute_reply": "2022-08-27T15:47:36.108119Z"
    },
    "papermill": {
     "duration": 0.655657,
     "end_time": "2022-08-27T15:47:36.113174",
     "exception": false,
     "start_time": "2022-08-27T15:47:35.457517",
     "status": "completed"
    },
    "tags": []
   },
   "outputs": [
    {
     "data": {
      "image/png": "[encoded data removed]",
      "text/plain": [
       "<Figure size 1440x720 with 1 Axes>"
      ]
     },
     "metadata": {
      "needs_background": "light"
     },
     "output_type": "display_data"
    }
   ],
   "source": [
    "#fig, (ax1, ax2, ax3) = plt.subplots(1, 3, figsize=(20, 10))\n",
    "import seaborn as sns\n",
    "fig, (ax1) = plt.subplots(1, 1, figsize=(20, 10))\n",
    "plot_heatmap(true_classes, model_pred_classes, class_names, ax1, title=\"Xception\")    \n",
    "# plot_heatmap(true_classes, mobilenetv2_pred_classes, class_names, ax2, title=\"Transfer Learning (mobilenetv2 No Fine-Tuning\")    \n",
    "# plot_heatmap(true_classes, mobilenetv2_pred_classes_ft, class_names, ax3, title=\"Transfer Learning (mobilenetv2) with Fine-Tuning\")    \n",
    "\n",
    "# fig.suptitle(\"Confusion Matrix Model Comparison\", fontsize=24)\n",
    "# fig.tight_layout()\n",
    "# fig.subplots_adjust(top=1.25)\n",
    "# plt.show()"
   ]
  },
  {
   "cell_type": "code",
   "execution_count": 20,
   "id": "9c0296b3",
   "metadata": {
    "execution": {
     "iopub.execute_input": "2022-08-27T15:47:36.873626Z",
     "iopub.status.busy": "2022-08-27T15:47:36.873248Z",
     "iopub.status.idle": "2022-08-27T15:47:37.265193Z",
     "shell.execute_reply": "2022-08-27T15:47:37.264273Z"
    },
    "papermill": {
     "duration": 0.770225,
     "end_time": "2022-08-27T15:47:37.267270",
     "exception": false,
     "start_time": "2022-08-27T15:47:36.497045",
     "status": "completed"
    },
    "tags": []
   },
   "outputs": [
    {
     "data": {
      "image/png": "[encoded data removed]",
      "text/plain": [
       "<Figure size 432x288 with 1 Axes>"
      ]
     },
     "metadata": {
      "needs_background": "light"
     },
     "output_type": "display_data"
    },
    {
     "data": {
      "image/png": "[encoded data removed]",
      "text/plain": [
       "<Figure size 432x288 with 1 Axes>"
      ]
     },
     "metadata": {
      "needs_background": "light"
     },
     "output_type": "display_data"
    }
   ],
   "source": [
    "plt.plot(history.history['loss'], label='train')\n",
    "plt.plot(history.history['val_loss'], label='val')\n",
    "plt.title('Xception: Loss and Validation Loss (0.000001 = Adam LR)')\n",
    "plt.legend();\n",
    "plt.show()\n",
    "\n",
    "plt.plot(history.history['accuracy'], label='train')\n",
    "plt.plot(history.history['val_accuracy'], label='val')\n",
    "plt.title('Xception: Accuracy and Validation Accuracy (0.000001 = Adam LR)')\n",
    "plt.legend();\n",
    "plt.show()"
   ]
  },
  {
   "cell_type": "code",
   "execution_count": 21,
   "id": "650ffb08",
   "metadata": {
    "execution": {
     "iopub.execute_input": "2022-08-27T15:47:38.019740Z",
     "iopub.status.busy": "2022-08-27T15:47:38.019340Z",
     "iopub.status.idle": "2022-08-27T15:47:38.024148Z",
     "shell.execute_reply": "2022-08-27T15:47:38.023093Z"
    },
    "papermill": {
     "duration": 0.360624,
     "end_time": "2022-08-27T15:47:38.026144",
     "exception": false,
     "start_time": "2022-08-27T15:47:37.665520",
     "status": "completed"
    },
    "tags": []
   },
   "outputs": [],
   "source": [
    "true_classes = test_ds.classes"
   ]
  },
  {
   "cell_type": "code",
   "execution_count": 22,
   "id": "8c0c0721",
   "metadata": {
    "execution": {
     "iopub.execute_input": "2022-08-27T15:47:38.803099Z",
     "iopub.status.busy": "2022-08-27T15:47:38.802736Z",
     "iopub.status.idle": "2022-08-27T15:47:39.058922Z",
     "shell.execute_reply": "2022-08-27T15:47:39.057976Z"
    },
    "papermill": {
     "duration": 0.663443,
     "end_time": "2022-08-27T15:47:39.061044",
     "exception": false,
     "start_time": "2022-08-27T15:47:38.397601",
     "status": "completed"
    },
    "tags": []
   },
   "outputs": [
    {
     "name": "stdout",
     "output_type": "stream",
     "text": [
      "predicted [1 1 0 0 1 0 0 0 1 1 0 1 0 1 0 1 0 0 0 1 1 1 0 0 1 1 0 0 0 0 1 0 1 0 1 0 1\n",
      " 0 0 0 1 0 0 1 1]\n",
      "Actual    [0 0 0 0 0 0 0 0 0 0 0 0 0 0 0 0 0 0 0 0 1 1 1 1 1 1 1 1 1 1 1 1 1 1 1 1 1\n",
      " 1 1 1 1 1 1 1 1]\n"
     ]
    }
   ],
   "source": [
    "modelspred = model_noFt.predict(test_ds,test_ds.samples//test_ds.batch_size+1)\n",
    "model_pred_classes = np.argmax(modelspred , axis=1)\n",
    "print(\"predicted\", model_pred_classes)\n",
    "print(\"Actual   \",true_classes)"
   ]
  },
  {
   "cell_type": "code",
   "execution_count": 23,
   "id": "9da5cae0",
   "metadata": {
    "execution": {
     "iopub.execute_input": "2022-08-27T15:47:40.019378Z",
     "iopub.status.busy": "2022-08-27T15:47:40.018979Z",
     "iopub.status.idle": "2022-08-27T15:47:41.124747Z",
     "shell.execute_reply": "2022-08-27T15:47:41.123712Z"
    },
    "papermill": {
     "duration": 1.526425,
     "end_time": "2022-08-27T15:47:41.130716",
     "exception": false,
     "start_time": "2022-08-27T15:47:39.604291",
     "status": "completed"
    },
    "tags": []
   },
   "outputs": [
    {
     "name": "stdout",
     "output_type": "stream",
     "text": [
      "Model: \"model_1\"\n",
      "__________________________________________________________________________________________________\n",
      "Layer (type)                    Output Shape         Param #     Connected to                     \n",
      "==================================================================================================\n",
      "input_2 (InputLayer)            [(None, 224, 224, 3) 0                                            \n",
      "__________________________________________________________________________________________________\n",
      "block1_conv1 (Conv2D)           (None, 111, 111, 32) 864         input_2[0][0]                    \n",
      "__________________________________________________________________________________________________\n",
      "block1_conv1_bn (BatchNormaliza (None, 111, 111, 32) 128         block1_conv1[0][0]               \n",
      "__________________________________________________________________________________________________\n",
      "block1_conv1_act (Activation)   (None, 111, 111, 32) 0           block1_conv1_bn[0][0]            \n",
      "__________________________________________________________________________________________________\n",
      "block1_conv2 (Conv2D)           (None, 109, 109, 64) 18432       block1_conv1_act[0][0]           \n",
      "__________________________________________________________________________________________________\n",
      "block1_conv2_bn (BatchNormaliza (None, 109, 109, 64) 256         block1_conv2[0][0]               \n",
      "__________________________________________________________________________________________________\n",
      "block1_conv2_act (Activation)   (None, 109, 109, 64) 0           block1_conv2_bn[0][0]            \n",
      "__________________________________________________________________________________________________\n",
      "block2_sepconv1 (SeparableConv2 (None, 109, 109, 128 8768        block1_conv2_act[0][0]           \n",
      "__________________________________________________________________________________________________\n",
      "block2_sepconv1_bn (BatchNormal (None, 109, 109, 128 512         block2_sepconv1[0][0]            \n",
      "__________________________________________________________________________________________________\n",
      "block2_sepconv2_act (Activation (None, 109, 109, 128 0           block2_sepconv1_bn[0][0]         \n",
      "__________________________________________________________________________________________________\n",
      "block2_sepconv2 (SeparableConv2 (None, 109, 109, 128 17536       block2_sepconv2_act[0][0]        \n",
      "__________________________________________________________________________________________________\n",
      "block2_sepconv2_bn (BatchNormal (None, 109, 109, 128 512         block2_sepconv2[0][0]            \n",
      "__________________________________________________________________________________________________\n",
      "conv2d_4 (Conv2D)               (None, 55, 55, 128)  8192        block1_conv2_act[0][0]           \n",
      "__________________________________________________________________________________________________\n",
      "block2_pool (MaxPooling2D)      (None, 55, 55, 128)  0           block2_sepconv2_bn[0][0]         \n",
      "__________________________________________________________________________________________________\n",
      "batch_normalization_4 (BatchNor (None, 55, 55, 128)  512         conv2d_4[0][0]                   \n",
      "__________________________________________________________________________________________________\n",
      "add_12 (Add)                    (None, 55, 55, 128)  0           block2_pool[0][0]                \n",
      "                                                                 batch_normalization_4[0][0]      \n",
      "__________________________________________________________________________________________________\n",
      "block3_sepconv1_act (Activation (None, 55, 55, 128)  0           add_12[0][0]                     \n",
      "__________________________________________________________________________________________________\n",
      "block3_sepconv1 (SeparableConv2 (None, 55, 55, 256)  33920       block3_sepconv1_act[0][0]        \n",
      "__________________________________________________________________________________________________\n",
      "block3_sepconv1_bn (BatchNormal (None, 55, 55, 256)  1024        block3_sepconv1[0][0]            \n",
      "__________________________________________________________________________________________________\n",
      "block3_sepconv2_act (Activation (None, 55, 55, 256)  0           block3_sepconv1_bn[0][0]         \n",
      "__________________________________________________________________________________________________\n",
      "block3_sepconv2 (SeparableConv2 (None, 55, 55, 256)  67840       block3_sepconv2_act[0][0]        \n",
      "__________________________________________________________________________________________________\n",
      "block3_sepconv2_bn (BatchNormal (None, 55, 55, 256)  1024        block3_sepconv2[0][0]            \n",
      "__________________________________________________________________________________________________\n",
      "conv2d_5 (Conv2D)               (None, 28, 28, 256)  32768       add_12[0][0]                     \n",
      "__________________________________________________________________________________________________\n",
      "block3_pool (MaxPooling2D)      (None, 28, 28, 256)  0           block3_sepconv2_bn[0][0]         \n",
      "__________________________________________________________________________________________________\n",
      "batch_normalization_5 (BatchNor (None, 28, 28, 256)  1024        conv2d_5[0][0]                   \n",
      "__________________________________________________________________________________________________\n",
      "add_13 (Add)                    (None, 28, 28, 256)  0           block3_pool[0][0]                \n",
      "                                                                 batch_normalization_5[0][0]      \n",
      "__________________________________________________________________________________________________\n",
      "block4_sepconv1_act (Activation (None, 28, 28, 256)  0           add_13[0][0]                     \n",
      "__________________________________________________________________________________________________\n",
      "block4_sepconv1 (SeparableConv2 (None, 28, 28, 728)  188672      block4_sepconv1_act[0][0]        \n",
      "__________________________________________________________________________________________________\n",
      "block4_sepconv1_bn (BatchNormal (None, 28, 28, 728)  2912        block4_sepconv1[0][0]            \n",
      "__________________________________________________________________________________________________\n",
      "block4_sepconv2_act (Activation (None, 28, 28, 728)  0           block4_sepconv1_bn[0][0]         \n",
      "__________________________________________________________________________________________________\n",
      "block4_sepconv2 (SeparableConv2 (None, 28, 28, 728)  536536      block4_sepconv2_act[0][0]        \n",
      "__________________________________________________________________________________________________\n",
      "block4_sepconv2_bn (BatchNormal (None, 28, 28, 728)  2912        block4_sepconv2[0][0]            \n",
      "__________________________________________________________________________________________________\n",
      "conv2d_6 (Conv2D)               (None, 14, 14, 728)  186368      add_13[0][0]                     \n",
      "__________________________________________________________________________________________________\n",
      "block4_pool (MaxPooling2D)      (None, 14, 14, 728)  0           block4_sepconv2_bn[0][0]         \n",
      "__________________________________________________________________________________________________\n",
      "batch_normalization_6 (BatchNor (None, 14, 14, 728)  2912        conv2d_6[0][0]                   \n",
      "__________________________________________________________________________________________________\n",
      "add_14 (Add)                    (None, 14, 14, 728)  0           block4_pool[0][0]                \n",
      "                                                                 batch_normalization_6[0][0]      \n",
      "__________________________________________________________________________________________________\n",
      "block5_sepconv1_act (Activation (None, 14, 14, 728)  0           add_14[0][0]                     \n",
      "__________________________________________________________________________________________________\n",
      "block5_sepconv1 (SeparableConv2 (None, 14, 14, 728)  536536      block5_sepconv1_act[0][0]        \n",
      "__________________________________________________________________________________________________\n",
      "block5_sepconv1_bn (BatchNormal (None, 14, 14, 728)  2912        block5_sepconv1[0][0]            \n",
      "__________________________________________________________________________________________________\n",
      "block5_sepconv2_act (Activation (None, 14, 14, 728)  0           block5_sepconv1_bn[0][0]         \n",
      "__________________________________________________________________________________________________\n",
      "block5_sepconv2 (SeparableConv2 (None, 14, 14, 728)  536536      block5_sepconv2_act[0][0]        \n",
      "__________________________________________________________________________________________________\n",
      "block5_sepconv2_bn (BatchNormal (None, 14, 14, 728)  2912        block5_sepconv2[0][0]            \n",
      "__________________________________________________________________________________________________\n",
      "block5_sepconv3_act (Activation (None, 14, 14, 728)  0           block5_sepconv2_bn[0][0]         \n",
      "__________________________________________________________________________________________________\n",
      "block5_sepconv3 (SeparableConv2 (None, 14, 14, 728)  536536      block5_sepconv3_act[0][0]        \n",
      "__________________________________________________________________________________________________\n",
      "block5_sepconv3_bn (BatchNormal (None, 14, 14, 728)  2912        block5_sepconv3[0][0]            \n",
      "__________________________________________________________________________________________________\n",
      "add_15 (Add)                    (None, 14, 14, 728)  0           block5_sepconv3_bn[0][0]         \n",
      "                                                                 add_14[0][0]                     \n",
      "__________________________________________________________________________________________________\n",
      "block6_sepconv1_act (Activation (None, 14, 14, 728)  0           add_15[0][0]                     \n",
      "__________________________________________________________________________________________________\n",
      "block6_sepconv1 (SeparableConv2 (None, 14, 14, 728)  536536      block6_sepconv1_act[0][0]        \n",
      "__________________________________________________________________________________________________\n",
      "block6_sepconv1_bn (BatchNormal (None, 14, 14, 728)  2912        block6_sepconv1[0][0]            \n",
      "__________________________________________________________________________________________________\n",
      "block6_sepconv2_act (Activation (None, 14, 14, 728)  0           block6_sepconv1_bn[0][0]         \n",
      "__________________________________________________________________________________________________\n",
      "block6_sepconv2 (SeparableConv2 (None, 14, 14, 728)  536536      block6_sepconv2_act[0][0]        \n",
      "__________________________________________________________________________________________________\n",
      "block6_sepconv2_bn (BatchNormal (None, 14, 14, 728)  2912        block6_sepconv2[0][0]            \n",
      "__________________________________________________________________________________________________\n",
      "block6_sepconv3_act (Activation (None, 14, 14, 728)  0           block6_sepconv2_bn[0][0]         \n",
      "__________________________________________________________________________________________________\n",
      "block6_sepconv3 (SeparableConv2 (None, 14, 14, 728)  536536      block6_sepconv3_act[0][0]        \n",
      "__________________________________________________________________________________________________\n",
      "block6_sepconv3_bn (BatchNormal (None, 14, 14, 728)  2912        block6_sepconv3[0][0]            \n",
      "__________________________________________________________________________________________________\n",
      "add_16 (Add)                    (None, 14, 14, 728)  0           block6_sepconv3_bn[0][0]         \n",
      "                                                                 add_15[0][0]                     \n",
      "__________________________________________________________________________________________________\n",
      "block7_sepconv1_act (Activation (None, 14, 14, 728)  0           add_16[0][0]                     \n",
      "__________________________________________________________________________________________________\n",
      "block7_sepconv1 (SeparableConv2 (None, 14, 14, 728)  536536      block7_sepconv1_act[0][0]        \n",
      "__________________________________________________________________________________________________\n",
      "block7_sepconv1_bn (BatchNormal (None, 14, 14, 728)  2912        block7_sepconv1[0][0]            \n",
      "__________________________________________________________________________________________________\n",
      "block7_sepconv2_act (Activation (None, 14, 14, 728)  0           block7_sepconv1_bn[0][0]         \n",
      "__________________________________________________________________________________________________\n",
      "block7_sepconv2 (SeparableConv2 (None, 14, 14, 728)  536536      block7_sepconv2_act[0][0]        \n",
      "__________________________________________________________________________________________________\n",
      "block7_sepconv2_bn (BatchNormal (None, 14, 14, 728)  2912        block7_sepconv2[0][0]            \n",
      "__________________________________________________________________________________________________\n",
      "block7_sepconv3_act (Activation (None, 14, 14, 728)  0           block7_sepconv2_bn[0][0]         \n",
      "__________________________________________________________________________________________________\n",
      "block7_sepconv3 (SeparableConv2 (None, 14, 14, 728)  536536      block7_sepconv3_act[0][0]        \n",
      "__________________________________________________________________________________________________\n",
      "block7_sepconv3_bn (BatchNormal (None, 14, 14, 728)  2912        block7_sepconv3[0][0]            \n",
      "__________________________________________________________________________________________________\n",
      "add_17 (Add)                    (None, 14, 14, 728)  0           block7_sepconv3_bn[0][0]         \n",
      "                                                                 add_16[0][0]                     \n",
      "__________________________________________________________________________________________________\n",
      "block8_sepconv1_act (Activation (None, 14, 14, 728)  0           add_17[0][0]                     \n",
      "__________________________________________________________________________________________________\n",
      "block8_sepconv1 (SeparableConv2 (None, 14, 14, 728)  536536      block8_sepconv1_act[0][0]        \n",
      "__________________________________________________________________________________________________\n",
      "block8_sepconv1_bn (BatchNormal (None, 14, 14, 728)  2912        block8_sepconv1[0][0]            \n",
      "__________________________________________________________________________________________________\n",
      "block8_sepconv2_act (Activation (None, 14, 14, 728)  0           block8_sepconv1_bn[0][0]         \n",
      "__________________________________________________________________________________________________\n",
      "block8_sepconv2 (SeparableConv2 (None, 14, 14, 728)  536536      block8_sepconv2_act[0][0]        \n",
      "__________________________________________________________________________________________________\n",
      "block8_sepconv2_bn (BatchNormal (None, 14, 14, 728)  2912        block8_sepconv2[0][0]            \n",
      "__________________________________________________________________________________________________\n",
      "block8_sepconv3_act (Activation (None, 14, 14, 728)  0           block8_sepconv2_bn[0][0]         \n",
      "__________________________________________________________________________________________________\n",
      "block8_sepconv3 (SeparableConv2 (None, 14, 14, 728)  536536      block8_sepconv3_act[0][0]        \n",
      "__________________________________________________________________________________________________\n",
      "block8_sepconv3_bn (BatchNormal (None, 14, 14, 728)  2912        block8_sepconv3[0][0]            \n",
      "__________________________________________________________________________________________________\n",
      "add_18 (Add)                    (None, 14, 14, 728)  0           block8_sepconv3_bn[0][0]         \n",
      "                                                                 add_17[0][0]                     \n",
      "__________________________________________________________________________________________________\n",
      "block9_sepconv1_act (Activation (None, 14, 14, 728)  0           add_18[0][0]                     \n",
      "__________________________________________________________________________________________________\n",
      "block9_sepconv1 (SeparableConv2 (None, 14, 14, 728)  536536      block9_sepconv1_act[0][0]        \n",
      "__________________________________________________________________________________________________\n",
      "block9_sepconv1_bn (BatchNormal (None, 14, 14, 728)  2912        block9_sepconv1[0][0]            \n",
      "__________________________________________________________________________________________________\n",
      "block9_sepconv2_act (Activation (None, 14, 14, 728)  0           block9_sepconv1_bn[0][0]         \n",
      "__________________________________________________________________________________________________\n",
      "block9_sepconv2 (SeparableConv2 (None, 14, 14, 728)  536536      block9_sepconv2_act[0][0]        \n",
      "__________________________________________________________________________________________________\n",
      "block9_sepconv2_bn (BatchNormal (None, 14, 14, 728)  2912        block9_sepconv2[0][0]            \n",
      "__________________________________________________________________________________________________\n",
      "block9_sepconv3_act (Activation (None, 14, 14, 728)  0           block9_sepconv2_bn[0][0]         \n",
      "__________________________________________________________________________________________________\n",
      "block9_sepconv3 (SeparableConv2 (None, 14, 14, 728)  536536      block9_sepconv3_act[0][0]        \n",
      "__________________________________________________________________________________________________\n",
      "block9_sepconv3_bn (BatchNormal (None, 14, 14, 728)  2912        block9_sepconv3[0][0]            \n",
      "__________________________________________________________________________________________________\n",
      "add_19 (Add)                    (None, 14, 14, 728)  0           block9_sepconv3_bn[0][0]         \n",
      "                                                                 add_18[0][0]                     \n",
      "__________________________________________________________________________________________________\n",
      "block10_sepconv1_act (Activatio (None, 14, 14, 728)  0           add_19[0][0]                     \n",
      "__________________________________________________________________________________________________\n",
      "block10_sepconv1 (SeparableConv (None, 14, 14, 728)  536536      block10_sepconv1_act[0][0]       \n",
      "__________________________________________________________________________________________________\n",
      "block10_sepconv1_bn (BatchNorma (None, 14, 14, 728)  2912        block10_sepconv1[0][0]           \n",
      "__________________________________________________________________________________________________\n",
      "block10_sepconv2_act (Activatio (None, 14, 14, 728)  0           block10_sepconv1_bn[0][0]        \n",
      "__________________________________________________________________________________________________\n",
      "block10_sepconv2 (SeparableConv (None, 14, 14, 728)  536536      block10_sepconv2_act[0][0]       \n",
      "__________________________________________________________________________________________________\n",
      "block10_sepconv2_bn (BatchNorma (None, 14, 14, 728)  2912        block10_sepconv2[0][0]           \n",
      "__________________________________________________________________________________________________\n",
      "block10_sepconv3_act (Activatio (None, 14, 14, 728)  0           block10_sepconv2_bn[0][0]        \n",
      "__________________________________________________________________________________________________\n",
      "block10_sepconv3 (SeparableConv (None, 14, 14, 728)  536536      block10_sepconv3_act[0][0]       \n",
      "__________________________________________________________________________________________________\n",
      "block10_sepconv3_bn (BatchNorma (None, 14, 14, 728)  2912        block10_sepconv3[0][0]           \n",
      "__________________________________________________________________________________________________\n",
      "add_20 (Add)                    (None, 14, 14, 728)  0           block10_sepconv3_bn[0][0]        \n",
      "                                                                 add_19[0][0]                     \n",
      "__________________________________________________________________________________________________\n",
      "block11_sepconv1_act (Activatio (None, 14, 14, 728)  0           add_20[0][0]                     \n",
      "__________________________________________________________________________________________________\n",
      "block11_sepconv1 (SeparableConv (None, 14, 14, 728)  536536      block11_sepconv1_act[0][0]       \n",
      "__________________________________________________________________________________________________\n",
      "block11_sepconv1_bn (BatchNorma (None, 14, 14, 728)  2912        block11_sepconv1[0][0]           \n",
      "__________________________________________________________________________________________________\n",
      "block11_sepconv2_act (Activatio (None, 14, 14, 728)  0           block11_sepconv1_bn[0][0]        \n",
      "__________________________________________________________________________________________________\n",
      "block11_sepconv2 (SeparableConv (None, 14, 14, 728)  536536      block11_sepconv2_act[0][0]       \n",
      "__________________________________________________________________________________________________\n",
      "block11_sepconv2_bn (BatchNorma (None, 14, 14, 728)  2912        block11_sepconv2[0][0]           \n",
      "__________________________________________________________________________________________________\n",
      "block11_sepconv3_act (Activatio (None, 14, 14, 728)  0           block11_sepconv2_bn[0][0]        \n",
      "__________________________________________________________________________________________________\n",
      "block11_sepconv3 (SeparableConv (None, 14, 14, 728)  536536      block11_sepconv3_act[0][0]       \n",
      "__________________________________________________________________________________________________\n",
      "block11_sepconv3_bn (BatchNorma (None, 14, 14, 728)  2912        block11_sepconv3[0][0]           \n",
      "__________________________________________________________________________________________________\n",
      "add_21 (Add)                    (None, 14, 14, 728)  0           block11_sepconv3_bn[0][0]        \n",
      "                                                                 add_20[0][0]                     \n",
      "__________________________________________________________________________________________________\n",
      "block12_sepconv1_act (Activatio (None, 14, 14, 728)  0           add_21[0][0]                     \n",
      "__________________________________________________________________________________________________\n",
      "block12_sepconv1 (SeparableConv (None, 14, 14, 728)  536536      block12_sepconv1_act[0][0]       \n",
      "__________________________________________________________________________________________________\n",
      "block12_sepconv1_bn (BatchNorma (None, 14, 14, 728)  2912        block12_sepconv1[0][0]           \n",
      "__________________________________________________________________________________________________\n",
      "block12_sepconv2_act (Activatio (None, 14, 14, 728)  0           block12_sepconv1_bn[0][0]        \n",
      "__________________________________________________________________________________________________\n",
      "block12_sepconv2 (SeparableConv (None, 14, 14, 728)  536536      block12_sepconv2_act[0][0]       \n",
      "__________________________________________________________________________________________________\n",
      "block12_sepconv2_bn (BatchNorma (None, 14, 14, 728)  2912        block12_sepconv2[0][0]           \n",
      "__________________________________________________________________________________________________\n",
      "block12_sepconv3_act (Activatio (None, 14, 14, 728)  0           block12_sepconv2_bn[0][0]        \n",
      "__________________________________________________________________________________________________\n",
      "block12_sepconv3 (SeparableConv (None, 14, 14, 728)  536536      block12_sepconv3_act[0][0]       \n",
      "__________________________________________________________________________________________________\n",
      "block12_sepconv3_bn (BatchNorma (None, 14, 14, 728)  2912        block12_sepconv3[0][0]           \n",
      "__________________________________________________________________________________________________\n",
      "add_22 (Add)                    (None, 14, 14, 728)  0           block12_sepconv3_bn[0][0]        \n",
      "                                                                 add_21[0][0]                     \n",
      "__________________________________________________________________________________________________\n",
      "block13_sepconv1_act (Activatio (None, 14, 14, 728)  0           add_22[0][0]                     \n",
      "__________________________________________________________________________________________________\n",
      "block13_sepconv1 (SeparableConv (None, 14, 14, 728)  536536      block13_sepconv1_act[0][0]       \n",
      "__________________________________________________________________________________________________\n",
      "block13_sepconv1_bn (BatchNorma (None, 14, 14, 728)  2912        block13_sepconv1[0][0]           \n",
      "__________________________________________________________________________________________________\n",
      "block13_sepconv2_act (Activatio (None, 14, 14, 728)  0           block13_sepconv1_bn[0][0]        \n",
      "__________________________________________________________________________________________________\n",
      "block13_sepconv2 (SeparableConv (None, 14, 14, 1024) 752024      block13_sepconv2_act[0][0]       \n",
      "__________________________________________________________________________________________________\n",
      "block13_sepconv2_bn (BatchNorma (None, 14, 14, 1024) 4096        block13_sepconv2[0][0]           \n",
      "__________________________________________________________________________________________________\n",
      "conv2d_7 (Conv2D)               (None, 7, 7, 1024)   745472      add_22[0][0]                     \n",
      "__________________________________________________________________________________________________\n",
      "block13_pool (MaxPooling2D)     (None, 7, 7, 1024)   0           block13_sepconv2_bn[0][0]        \n",
      "__________________________________________________________________________________________________\n",
      "batch_normalization_7 (BatchNor (None, 7, 7, 1024)   4096        conv2d_7[0][0]                   \n",
      "__________________________________________________________________________________________________\n",
      "add_23 (Add)                    (None, 7, 7, 1024)   0           block13_pool[0][0]               \n",
      "                                                                 batch_normalization_7[0][0]      \n",
      "__________________________________________________________________________________________________\n",
      "block14_sepconv1 (SeparableConv (None, 7, 7, 1536)   1582080     add_23[0][0]                     \n",
      "__________________________________________________________________________________________________\n",
      "block14_sepconv1_bn (BatchNorma (None, 7, 7, 1536)   6144        block14_sepconv1[0][0]           \n",
      "__________________________________________________________________________________________________\n",
      "block14_sepconv1_act (Activatio (None, 7, 7, 1536)   0           block14_sepconv1_bn[0][0]        \n",
      "__________________________________________________________________________________________________\n",
      "block14_sepconv2 (SeparableConv (None, 7, 7, 2048)   3159552     block14_sepconv1_act[0][0]       \n",
      "__________________________________________________________________________________________________\n",
      "block14_sepconv2_bn (BatchNorma (None, 7, 7, 2048)   8192        block14_sepconv2[0][0]           \n",
      "__________________________________________________________________________________________________\n",
      "block14_sepconv2_act (Activatio (None, 7, 7, 2048)   0           block14_sepconv2_bn[0][0]        \n",
      "__________________________________________________________________________________________________\n",
      "flatten (Flatten)               (None, 100352)       0           block14_sepconv2_act[0][0]       \n",
      "__________________________________________________________________________________________________\n",
      "dense_4 (Dense)                 (None, 2000)         200706000   flatten[0][0]                    \n",
      "__________________________________________________________________________________________________\n",
      "dropout_3 (Dropout)             (None, 2000)         0           dense_4[0][0]                    \n",
      "__________________________________________________________________________________________________\n",
      "dense_5 (Dense)                 (None, 1000)         2001000     dropout_3[0][0]                  \n",
      "__________________________________________________________________________________________________\n",
      "dropout_4 (Dropout)             (None, 1000)         0           dense_5[0][0]                    \n",
      "__________________________________________________________________________________________________\n",
      "dense_6 (Dense)                 (None, 200)          200200      dropout_4[0][0]                  \n",
      "__________________________________________________________________________________________________\n",
      "dropout_5 (Dropout)             (None, 200)          0           dense_6[0][0]                    \n",
      "__________________________________________________________________________________________________\n",
      "dense_7 (Dense)                 (None, 2)            402         dropout_5[0][0]                  \n",
      "==================================================================================================\n",
      "Total params: 223,769,082\n",
      "Trainable params: 207,658,450\n",
      "Non-trainable params: 16,110,632\n",
      "__________________________________________________________________________________________________\n"
     ]
    }
   ],
   "source": [
    "ft = 9\n",
    "# First we'll train the model without Fine-tuning\n",
    "model_Ft = create_model(input_shape, n_classes, opt, fine_tune=ft)"
   ]
  },
  {
   "cell_type": "code",
   "execution_count": 24,
   "id": "feaae4d8",
   "metadata": {
    "execution": {
     "iopub.execute_input": "2022-08-27T15:47:41.914402Z",
     "iopub.status.busy": "2022-08-27T15:47:41.914053Z",
     "iopub.status.idle": "2022-08-27T15:57:17.222454Z",
     "shell.execute_reply": "2022-08-27T15:57:17.221305Z"
    },
    "papermill": {
     "duration": 575.71738,
     "end_time": "2022-08-27T15:57:17.224985",
     "exception": false,
     "start_time": "2022-08-27T15:47:41.507605",
     "status": "completed"
    },
    "tags": []
   },
   "outputs": [
    {
     "name": "stdout",
     "output_type": "stream",
     "text": [
      "Epoch 1/50\n",
      "134/134 [==============================] - 14s 86ms/step - loss: 0.6431 - accuracy: 0.6555 - val_loss: 0.6297 - val_accuracy: 0.6048\n",
      "Epoch 2/50\n",
      "134/134 [==============================] - 11s 82ms/step - loss: 0.5602 - accuracy: 0.7306 - val_loss: 0.6389 - val_accuracy: 0.6690\n",
      "Epoch 3/50\n",
      "134/134 [==============================] - 11s 80ms/step - loss: 0.4804 - accuracy: 0.7932 - val_loss: 0.6744 - val_accuracy: 0.6643\n",
      "Epoch 4/50\n",
      "134/134 [==============================] - 11s 80ms/step - loss: 0.3846 - accuracy: 0.8375 - val_loss: 0.6827 - val_accuracy: 0.6167\n",
      "Epoch 5/50\n",
      "134/134 [==============================] - 11s 80ms/step - loss: 0.3381 - accuracy: 0.8548 - val_loss: 0.6722 - val_accuracy: 0.6905\n",
      "Epoch 6/50\n",
      "134/134 [==============================] - 11s 82ms/step - loss: 0.2739 - accuracy: 0.8889 - val_loss: 0.7952 - val_accuracy: 0.6881\n",
      "Epoch 7/50\n",
      "134/134 [==============================] - 11s 80ms/step - loss: 0.2570 - accuracy: 0.8931 - val_loss: 0.7473 - val_accuracy: 0.6833\n",
      "Epoch 8/50\n",
      "134/134 [==============================] - 11s 80ms/step - loss: 0.2031 - accuracy: 0.9323 - val_loss: 0.7662 - val_accuracy: 0.6905\n",
      "Epoch 9/50\n",
      "134/134 [==============================] - 11s 82ms/step - loss: 0.1728 - accuracy: 0.9356 - val_loss: 0.7471 - val_accuracy: 0.6976\n",
      "Epoch 10/50\n",
      "134/134 [==============================] - 11s 80ms/step - loss: 0.1628 - accuracy: 0.9365 - val_loss: 0.7740 - val_accuracy: 0.7119\n",
      "Epoch 11/50\n",
      "134/134 [==============================] - 11s 80ms/step - loss: 0.1323 - accuracy: 0.9468 - val_loss: 0.9905 - val_accuracy: 0.6524\n",
      "Epoch 12/50\n",
      "134/134 [==============================] - 11s 80ms/step - loss: 0.1150 - accuracy: 0.9552 - val_loss: 1.0036 - val_accuracy: 0.6738\n",
      "Epoch 13/50\n",
      "134/134 [==============================] - 11s 80ms/step - loss: 0.1033 - accuracy: 0.9645 - val_loss: 1.1882 - val_accuracy: 0.6571\n",
      "Epoch 14/50\n",
      "134/134 [==============================] - 11s 83ms/step - loss: 0.0838 - accuracy: 0.9701 - val_loss: 1.1346 - val_accuracy: 0.6857\n",
      "Epoch 15/50\n",
      "134/134 [==============================] - 11s 80ms/step - loss: 0.0803 - accuracy: 0.9687 - val_loss: 1.0439 - val_accuracy: 0.6952\n",
      "Epoch 16/50\n",
      "134/134 [==============================] - 11s 80ms/step - loss: 0.0594 - accuracy: 0.9776 - val_loss: 1.3829 - val_accuracy: 0.6786\n",
      "Epoch 17/50\n",
      "134/134 [==============================] - 11s 80ms/step - loss: 0.0681 - accuracy: 0.9725 - val_loss: 1.2758 - val_accuracy: 0.6810\n",
      "Epoch 18/50\n",
      "134/134 [==============================] - 11s 80ms/step - loss: 0.0646 - accuracy: 0.9795 - val_loss: 1.2839 - val_accuracy: 0.7024\n",
      "Epoch 19/50\n",
      "134/134 [==============================] - 11s 82ms/step - loss: 0.0664 - accuracy: 0.9753 - val_loss: 1.4433 - val_accuracy: 0.6762\n",
      "Epoch 20/50\n",
      "134/134 [==============================] - 11s 81ms/step - loss: 0.0488 - accuracy: 0.9846 - val_loss: 1.3966 - val_accuracy: 0.6619\n",
      "Epoch 21/50\n",
      "134/134 [==============================] - 11s 80ms/step - loss: 0.0541 - accuracy: 0.9799 - val_loss: 1.3331 - val_accuracy: 0.6952\n",
      "Epoch 22/50\n",
      "134/134 [==============================] - 11s 80ms/step - loss: 0.0500 - accuracy: 0.9804 - val_loss: 1.6931 - val_accuracy: 0.6857\n",
      "Epoch 23/50\n",
      "134/134 [==============================] - 11s 83ms/step - loss: 0.0581 - accuracy: 0.9790 - val_loss: 1.7013 - val_accuracy: 0.6762\n",
      "Epoch 24/50\n",
      "134/134 [==============================] - 11s 80ms/step - loss: 0.0374 - accuracy: 0.9907 - val_loss: 1.6564 - val_accuracy: 0.6190\n",
      "Epoch 25/50\n",
      "134/134 [==============================] - 11s 80ms/step - loss: 0.0358 - accuracy: 0.9893 - val_loss: 1.7359 - val_accuracy: 0.6524\n",
      "Epoch 26/50\n",
      "134/134 [==============================] - 11s 80ms/step - loss: 0.0362 - accuracy: 0.9888 - val_loss: 1.3947 - val_accuracy: 0.6976\n",
      "Epoch 27/50\n",
      "134/134 [==============================] - 11s 81ms/step - loss: 0.0284 - accuracy: 0.9925 - val_loss: 1.5862 - val_accuracy: 0.6810\n",
      "Epoch 28/50\n",
      "134/134 [==============================] - 11s 80ms/step - loss: 0.0295 - accuracy: 0.9893 - val_loss: 1.8649 - val_accuracy: 0.6381\n",
      "Epoch 29/50\n",
      "134/134 [==============================] - 11s 80ms/step - loss: 0.0255 - accuracy: 0.9911 - val_loss: 1.6802 - val_accuracy: 0.6952\n",
      "Epoch 30/50\n",
      "134/134 [==============================] - 11s 81ms/step - loss: 0.0231 - accuracy: 0.9916 - val_loss: 1.6112 - val_accuracy: 0.6929\n",
      "Epoch 31/50\n",
      "134/134 [==============================] - 11s 80ms/step - loss: 0.0195 - accuracy: 0.9944 - val_loss: 1.6250 - val_accuracy: 0.7000\n",
      "Epoch 32/50\n",
      "134/134 [==============================] - 11s 81ms/step - loss: 0.0294 - accuracy: 0.9888 - val_loss: 1.8972 - val_accuracy: 0.6810\n",
      "Epoch 33/50\n",
      "134/134 [==============================] - 11s 82ms/step - loss: 0.0448 - accuracy: 0.9855 - val_loss: 2.2666 - val_accuracy: 0.6452\n",
      "Epoch 34/50\n",
      "134/134 [==============================] - 11s 80ms/step - loss: 0.0433 - accuracy: 0.9860 - val_loss: 1.6720 - val_accuracy: 0.6643\n",
      "Epoch 35/50\n",
      "134/134 [==============================] - 11s 81ms/step - loss: 0.0185 - accuracy: 0.9953 - val_loss: 1.6762 - val_accuracy: 0.7024\n",
      "Epoch 36/50\n",
      "134/134 [==============================] - 11s 81ms/step - loss: 0.0157 - accuracy: 0.9949 - val_loss: 1.9451 - val_accuracy: 0.6643\n",
      "Epoch 37/50\n",
      "134/134 [==============================] - 11s 82ms/step - loss: 0.0242 - accuracy: 0.9911 - val_loss: 2.1361 - val_accuracy: 0.6548\n",
      "Epoch 38/50\n",
      "134/134 [==============================] - 11s 80ms/step - loss: 0.0275 - accuracy: 0.9893 - val_loss: 1.7186 - val_accuracy: 0.7119\n",
      "Epoch 39/50\n",
      "134/134 [==============================] - 11s 81ms/step - loss: 0.0278 - accuracy: 0.9888 - val_loss: 1.8716 - val_accuracy: 0.6643\n",
      "Epoch 40/50\n",
      "134/134 [==============================] - 11s 80ms/step - loss: 0.0162 - accuracy: 0.9967 - val_loss: 1.8492 - val_accuracy: 0.6976\n",
      "Epoch 41/50\n",
      "134/134 [==============================] - 11s 82ms/step - loss: 0.0197 - accuracy: 0.9921 - val_loss: 1.9408 - val_accuracy: 0.6667\n",
      "Epoch 42/50\n",
      "134/134 [==============================] - 11s 80ms/step - loss: 0.0144 - accuracy: 0.9958 - val_loss: 2.3440 - val_accuracy: 0.6452\n",
      "Epoch 43/50\n",
      "134/134 [==============================] - 11s 80ms/step - loss: 0.0150 - accuracy: 0.9949 - val_loss: 1.9999 - val_accuracy: 0.6619\n",
      "Epoch 44/50\n",
      "134/134 [==============================] - 11s 80ms/step - loss: 0.0149 - accuracy: 0.9949 - val_loss: 1.9760 - val_accuracy: 0.6762\n",
      "Epoch 45/50\n",
      "134/134 [==============================] - 11s 80ms/step - loss: 0.0632 - accuracy: 0.9823 - val_loss: 2.1661 - val_accuracy: 0.6071\n",
      "Epoch 46/50\n",
      "134/134 [==============================] - 11s 81ms/step - loss: 0.0344 - accuracy: 0.9897 - val_loss: 1.6387 - val_accuracy: 0.6714\n",
      "Epoch 47/50\n",
      "134/134 [==============================] - 11s 80ms/step - loss: 0.0143 - accuracy: 0.9958 - val_loss: 1.8096 - val_accuracy: 0.6548\n",
      "Epoch 48/50\n",
      "134/134 [==============================] - 11s 80ms/step - loss: 0.0201 - accuracy: 0.9930 - val_loss: 1.9611 - val_accuracy: 0.6595\n",
      "Epoch 49/50\n",
      "134/134 [==============================] - 11s 81ms/step - loss: 0.0064 - accuracy: 0.9995 - val_loss: 1.8017 - val_accuracy: 0.6548\n",
      "Epoch 50/50\n",
      "134/134 [==============================] - 11s 82ms/step - loss: 0.0069 - accuracy: 0.9977 - val_loss: 1.6277 - val_accuracy: 0.6833\n"
     ]
    }
   ],
   "source": [
    "history = model_Ft.fit(train_ds,\n",
    "                    epochs = 50,\n",
    "                    #steps_per_epoch = STEP_SIZE_TRAIN,\n",
    "                    #class_weight = class_weights,\n",
    "                    validation_data = val_ds,\n",
    "                    #validation_steps = STEP_SIZE_VALID,\n",
    "                    #callbacks=[checkpoint, early_stop, PlotLossesKeras()]\n",
    "                    )"
   ]
  },
  {
   "cell_type": "code",
   "execution_count": 25,
   "id": "bff29908",
   "metadata": {
    "execution": {
     "iopub.execute_input": "2022-08-27T15:57:18.728284Z",
     "iopub.status.busy": "2022-08-27T15:57:18.727754Z",
     "iopub.status.idle": "2022-08-27T15:57:19.737466Z",
     "shell.execute_reply": "2022-08-27T15:57:19.735941Z"
    },
    "papermill": {
     "duration": 1.793642,
     "end_time": "2022-08-27T15:57:19.740665",
     "exception": false,
     "start_time": "2022-08-27T15:57:17.947023",
     "status": "completed"
    },
    "tags": []
   },
   "outputs": [
    {
     "name": "stdout",
     "output_type": "stream",
     "text": [
      "Xception Model Accuracy: 55.56%\n"
     ]
    }
   ],
   "source": [
    "model_preds = model_Ft.predict(test_ds,test_ds.samples//test_ds.batch_size+1)\n",
    "model_pred_classes = np.argmax(model_preds , axis=1)\n",
    "\n",
    "from sklearn.metrics import accuracy_score\n",
    "true_classes = test_ds.classes\n",
    "acc = accuracy_score(true_classes, model_pred_classes)\n",
    "print(\"Xception Model Accuracy: {:.2f}%\".format(acc * 100))\n"
   ]
  },
  {
   "cell_type": "code",
   "execution_count": 26,
   "id": "6a6485c0",
   "metadata": {
    "execution": {
     "iopub.execute_input": "2022-08-27T15:57:21.824799Z",
     "iopub.status.busy": "2022-08-27T15:57:21.824335Z",
     "iopub.status.idle": "2022-08-27T15:57:21.835964Z",
     "shell.execute_reply": "2022-08-27T15:57:21.834432Z"
    },
    "papermill": {
     "duration": 0.953972,
     "end_time": "2022-08-27T15:57:21.838797",
     "exception": false,
     "start_time": "2022-08-27T15:57:20.884825",
     "status": "completed"
    },
    "tags": []
   },
   "outputs": [
    {
     "name": "stdout",
     "output_type": "stream",
     "text": [
      "[[10 10]\n",
      " [10 15]]\n",
      "Classification Report\n",
      "              precision    recall  f1-score   support\n",
      "\n",
      "   Monkeypox       0.50      0.50      0.50        20\n",
      "      Others       0.60      0.60      0.60        25\n",
      "\n",
      "    accuracy                           0.56        45\n",
      "   macro avg       0.55      0.55      0.55        45\n",
      "weighted avg       0.56      0.56      0.56        45\n",
      "\n"
     ]
    }
   ],
   "source": [
    "print(confusion_matrix(test_ds.classes, model_pred_classes))\n",
    "print('Classification Report')\n",
    "target_names = ['Monkeypox', 'Others']\n",
    "print(classification_report(test_ds.classes, model_pred_classes, target_names=target_names))"
   ]
  },
  {
   "cell_type": "code",
   "execution_count": 27,
   "id": "a50c3a4f",
   "metadata": {
    "execution": {
     "iopub.execute_input": "2022-08-27T15:57:23.624088Z",
     "iopub.status.busy": "2022-08-27T15:57:23.623725Z",
     "iopub.status.idle": "2022-08-27T15:57:23.742895Z",
     "shell.execute_reply": "2022-08-27T15:57:23.741260Z"
    },
    "papermill": {
     "duration": 0.85456,
     "end_time": "2022-08-27T15:57:23.746919",
     "exception": false,
     "start_time": "2022-08-27T15:57:22.892359",
     "status": "completed"
    },
    "tags": []
   },
   "outputs": [
    {
     "data": {
      "text/plain": [
       "(<Figure size 432x288 with 1 Axes>,\n",
       " <AxesSubplot:xlabel='predicted label', ylabel='true label'>)"
      ]
     },
     "execution_count": 27,
     "metadata": {},
     "output_type": "execute_result"
    },
    {
     "data": {
      "image/png": "[encoded data removed]",
      "text/plain": [
       "<Figure size 432x288 with 1 Axes>"
      ]
     },
     "metadata": {
      "needs_background": "light"
     },
     "output_type": "display_data"
    }
   ],
   "source": [
    "from mlxtend.plotting import plot_confusion_matrix\n",
    "x = confusion_matrix(test_ds.classes, model_pred_classes)\n",
    "plot_confusion_matrix(x)"
   ]
  },
  {
   "cell_type": "code",
   "execution_count": 28,
   "id": "f5c74ab0",
   "metadata": {
    "execution": {
     "iopub.execute_input": "2022-08-27T15:57:25.297732Z",
     "iopub.status.busy": "2022-08-27T15:57:25.297157Z",
     "iopub.status.idle": "2022-08-27T15:57:25.303825Z",
     "shell.execute_reply": "2022-08-27T15:57:25.302911Z"
    },
    "papermill": {
     "duration": 0.738059,
     "end_time": "2022-08-27T15:57:25.306075",
     "exception": false,
     "start_time": "2022-08-27T15:57:24.568016",
     "status": "completed"
    },
    "tags": []
   },
   "outputs": [],
   "source": [
    "# Get the names of the ten classes\n",
    "class_names = test_ds.class_indices.keys()\n",
    "\n",
    "def plot_heatmap(y_true, y_pred, class_names, ax, title):\n",
    "    cm = confusion_matrix(y_true, y_pred)\n",
    "    sns.heatmap(\n",
    "        cm, \n",
    "        annot=True, \n",
    "        square=True, \n",
    "        xticklabels=class_names, \n",
    "        yticklabels=class_names,\n",
    "        fmt='d', \n",
    "        cmap=plt.cm.Greens, #Blues, YlGnBu, YlOrRd\n",
    "        cbar=False,\n",
    "        ax=ax\n",
    "    )\n",
    "    ax.set_title(title, fontsize=16)\n",
    "    ax.set_xticklabels(ax.get_xticklabels(), rotation=45, ha=\"right\")\n",
    "    ax.set_ylabel('True Label', fontsize=12)\n",
    "    ax.set_xlabel('Predicted Label', fontsize=12)"
   ]
  },
  {
   "cell_type": "code",
   "execution_count": 29,
   "id": "88d16167",
   "metadata": {
    "execution": {
     "iopub.execute_input": "2022-08-27T15:57:26.842736Z",
     "iopub.status.busy": "2022-08-27T15:57:26.842363Z",
     "iopub.status.idle": "2022-08-27T15:57:26.984709Z",
     "shell.execute_reply": "2022-08-27T15:57:26.983178Z"
    },
    "papermill": {
     "duration": 0.91393,
     "end_time": "2022-08-27T15:57:26.987582",
     "exception": false,
     "start_time": "2022-08-27T15:57:26.073652",
     "status": "completed"
    },
    "tags": []
   },
   "outputs": [
    {
     "data": {
      "image/png": "[encoded data removed]",
      "text/plain": [
       "<Figure size 1440x720 with 1 Axes>"
      ]
     },
     "metadata": {
      "needs_background": "light"
     },
     "output_type": "display_data"
    }
   ],
   "source": [
    "import seaborn as sns\n",
    "fig, (ax1) = plt.subplots(1, 1, figsize=(20, 10))\n",
    "plot_heatmap(true_classes, model_pred_classes, class_names, ax1, title=\"Xception\")"
   ]
  },
  {
   "cell_type": "code",
   "execution_count": 30,
   "id": "652256f3",
   "metadata": {
    "execution": {
     "iopub.execute_input": "2022-08-27T15:57:28.526690Z",
     "iopub.status.busy": "2022-08-27T15:57:28.526186Z",
     "iopub.status.idle": "2022-08-27T15:57:28.932223Z",
     "shell.execute_reply": "2022-08-27T15:57:28.931306Z"
    },
    "papermill": {
     "duration": 1.204678,
     "end_time": "2022-08-27T15:57:28.934504",
     "exception": false,
     "start_time": "2022-08-27T15:57:27.729826",
     "status": "completed"
    },
    "tags": []
   },
   "outputs": [
    {
     "data": {
      "image/png": "[encoded data removed]",
      "text/plain": [
       "<Figure size 432x288 with 1 Axes>"
      ]
     },
     "metadata": {
      "needs_background": "light"
     },
     "output_type": "display_data"
    },
    {
     "data": {
      "image/png": "[encoded data removed]",
      "text/plain": [
       "<Figure size 432x288 with 1 Axes>"
      ]
     },
     "metadata": {
      "needs_background": "light"
     },
     "output_type": "display_data"
    }
   ],
   "source": [
    "plt.plot(history.history['loss'], label='train')\n",
    "plt.plot(history.history['val_loss'], label='val')\n",
    "plt.title('Xception: Loss and Validation Loss (0.000001 = Adam LR)')\n",
    "plt.legend();\n",
    "plt.show()\n",
    "\n",
    "plt.plot(history.history['accuracy'], label='train')\n",
    "plt.plot(history.history['val_accuracy'], label='val')\n",
    "plt.title('Xception: Accuracy and Validation Accuracy (0.000001 = Adam LR)')\n",
    "plt.legend();\n",
    "plt.show()"
   ]
  },
  {
   "cell_type": "code",
   "execution_count": 31,
   "id": "6aacdd3a",
   "metadata": {
    "execution": {
     "iopub.execute_input": "2022-08-27T15:57:30.424459Z",
     "iopub.status.busy": "2022-08-27T15:57:30.423926Z",
     "iopub.status.idle": "2022-08-27T15:57:30.674100Z",
     "shell.execute_reply": "2022-08-27T15:57:30.672340Z"
    },
    "papermill": {
     "duration": 1.0246,
     "end_time": "2022-08-27T15:57:30.677148",
     "exception": false,
     "start_time": "2022-08-27T15:57:29.652548",
     "status": "completed"
    },
    "tags": []
   },
   "outputs": [
    {
     "name": "stdout",
     "output_type": "stream",
     "text": [
      "predicted [1 1 0 0 0 1 1 0 1 1 0 0 1 1 0 1 1 0 0 0 1 1 0 1 0 0 0 0 0 1 0 0 0 0 1 0 0\n",
      " 1 0 0 1 0 1 1 1]\n",
      "Actual    [0 0 0 0 0 0 0 0 0 0 0 0 0 0 0 0 0 0 0 0 1 1 1 1 1 1 1 1 1 1 1 1 1 1 1 1 1\n",
      " 1 1 1 1 1 1 1 1]\n"
     ]
    }
   ],
   "source": [
    "true_classes = test_ds.classes\n",
    "modelspred = model_noFt.predict(test_ds,test_ds.samples//test_ds.batch_size+1)\n",
    "model_pred_classes = np.argmax(modelspred , axis=1)\n",
    "print(\"predicted\", model_pred_classes)\n",
    "print(\"Actual   \",true_classes)"
   ]
  },
  {
   "cell_type": "code",
   "execution_count": null,
   "id": "1531f331",
   "metadata": {
    "papermill": {
     "duration": 0.719581,
     "end_time": "2022-08-27T15:57:32.162750",
     "exception": false,
     "start_time": "2022-08-27T15:57:31.443169",
     "status": "completed"
    },
    "tags": []
   },
   "outputs": [],
   "source": []
  }
 ],
 "metadata": {
  "kernelspec": {
   "display_name": "Python 3",
   "language": "python",
   "name": "python3"
  },
  "language_info": {
   "codemirror_mode": {
    "name": "ipython",
    "version": 3
   },
   "file_extension": ".py",
   "mimetype": "text/x-python",
   "name": "python",
   "nbconvert_exporter": "python",
   "pygments_lexer": "ipython3",
   "version": "3.7.12"
  },
  "papermill": {
   "default_parameters": {},
   "duration": 1145.417954,
   "end_time": "2022-08-27T15:57:36.389150",
   "environment_variables": {},
   "exception": null,
   "input_path": "__notebook__.ipynb",
   "output_path": "__notebook__.ipynb",
   "parameters": {},
   "start_time": "2022-08-27T15:38:30.971196",
   "version": "2.3.4"
  }
 },
 "nbformat": 4,
 "nbformat_minor": 5
}
